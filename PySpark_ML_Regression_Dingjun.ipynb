{
  "nbformat": 4,
  "nbformat_minor": 0,
  "metadata": {
    "colab": {
      "provenance": [],
      "authorship_tag": "ABX9TyOYufna+l48QXMzoOd+nWaj",
      "include_colab_link": true
    },
    "kernelspec": {
      "name": "python3",
      "display_name": "Python 3"
    },
    "language_info": {
      "name": "python"
    },
    "accelerator": "GPU",
    "gpuClass": "standard"
  },
  "cells": [
    {
      "cell_type": "markdown",
      "metadata": {
        "id": "view-in-github",
        "colab_type": "text"
      },
      "source": [
        "<a href=\"https://colab.research.google.com/github/dingjun6953/Accelerate-Python-codes-using-proper-libraries/blob/main/PySpark_ML_Regression_Dingjun.ipynb\" target=\"_parent\"><img src=\"https://colab.research.google.com/assets/colab-badge.svg\" alt=\"Open In Colab\"/></a>"
      ]
    },
    {
      "cell_type": "code",
      "execution_count": 3,
      "metadata": {
        "colab": {
          "base_uri": "https://localhost:8080/"
        },
        "id": "5j1S9vH9plRd",
        "outputId": "fa65fee1-f1dc-41d5-d94e-666dab4c6446"
      },
      "outputs": [
        {
          "output_type": "stream",
          "name": "stdout",
          "text": [
            "Looking in indexes: https://pypi.org/simple, https://us-python.pkg.dev/colab-wheels/public/simple/\n",
            "Collecting pyspark\n",
            "  Downloading pyspark-3.3.2.tar.gz (281.4 MB)\n",
            "\u001b[2K     \u001b[90m━━━━━━━━━━━━━━━━━━━━━━━━━━━━━━━━━━━━━━━\u001b[0m \u001b[32m281.4/281.4 MB\u001b[0m \u001b[31m5.3 MB/s\u001b[0m eta \u001b[36m0:00:00\u001b[0m\n",
            "\u001b[?25h  Preparing metadata (setup.py) ... \u001b[?25l\u001b[?25hdone\n",
            "Collecting py4j==0.10.9.5\n",
            "  Downloading py4j-0.10.9.5-py2.py3-none-any.whl (199 kB)\n",
            "\u001b[2K     \u001b[90m━━━━━━━━━━━━━━━━━━━━━━━━━━━━━━━━━━━━━━\u001b[0m \u001b[32m199.7/199.7 KB\u001b[0m \u001b[31m22.9 MB/s\u001b[0m eta \u001b[36m0:00:00\u001b[0m\n",
            "\u001b[?25hBuilding wheels for collected packages: pyspark\n",
            "  Building wheel for pyspark (setup.py) ... \u001b[?25l\u001b[?25hdone\n",
            "  Created wheel for pyspark: filename=pyspark-3.3.2-py2.py3-none-any.whl size=281824028 sha256=3930f7f19316278201ab6a2b1b4b119a11cdf32656cd6d9eb9422f277dd9e054\n",
            "  Stored in directory: /root/.cache/pip/wheels/6c/e3/9b/0525ce8a69478916513509d43693511463c6468db0de237c86\n",
            "Successfully built pyspark\n",
            "Installing collected packages: py4j, pyspark\n",
            "  Attempting uninstall: py4j\n",
            "    Found existing installation: py4j 0.10.9.7\n",
            "    Uninstalling py4j-0.10.9.7:\n",
            "      Successfully uninstalled py4j-0.10.9.7\n",
            "Successfully installed py4j-0.10.9.5 pyspark-3.3.2\n"
          ]
        }
      ],
      "source": [
        "!pip install pyspark"
      ]
    },
    {
      "cell_type": "code",
      "source": [
        "from pyspark import SparkContext\n",
        "from pyspark.sql import SparkSession\n",
        "from pyspark.sql import SQLContext\n",
        "from pyspark.ml.feature import VectorAssembler\n",
        "from pyspark.ml.evaluation import RegressionEvaluator\n",
        "from pyspark.ml.regression import LinearRegression\n",
        "from pyspark.ml.regression import GBTRegressor\n",
        "from pyspark.ml.regression import GeneralizedLinearRegression\n",
        "from pyspark.ml.feature import StringIndexer\n",
        "import matplotlib.pyplot as plt\n",
        "import pandas as pd"
      ],
      "metadata": {
        "id": "CLqHZqPPpl4G"
      },
      "execution_count": 32,
      "outputs": []
    },
    {
      "cell_type": "markdown",
      "source": [
        "Data analyses of BitstampUSD csv data file using the following 4 ML methods:\n",
        "\n",
        "1. Linear Regression\n",
        "2. Generalized Linear Regression\n",
        "3. Gradient Boosted Tree Regression\n",
        "\n",
        "\n",
        "Author: Dingjun Chen\n",
        "Date: 2023/03/18"
      ],
      "metadata": {
        "id": "Xlp7jP2lu9EP"
      }
    },
    {
      "cell_type": "code",
      "source": [
        "spark=SparkSession.builder.appName('PySpark_ML_Regression_Dingjun').getOrCreate()\n",
        "df_bitcoin =spark.read.csv('bitstampUSD_1-min_data_2012-01-01_to_2021-03-31.csv',header=True,inferSchema=True)\n",
        "df_bitcoin=df_bitcoin.na.drop(how=\"any\")\n",
        "df_bitcoin.show()"
      ],
      "metadata": {
        "colab": {
          "base_uri": "https://localhost:8080/"
        },
        "id": "mDqm_JdapmI1",
        "outputId": "efed662d-2bad-42a6-9ed5-2c0e16ac6d4a"
      },
      "execution_count": 16,
      "outputs": [
        {
          "output_type": "stream",
          "name": "stdout",
          "text": [
            "+----------+----+----+----+-----+------------+-----------------+--------------+\n",
            "| Timestamp|Open|High| Low|Close|Volume_(BTC)|Volume_(Currency)|Weighted_Price|\n",
            "+----------+----+----+----+-----+------------+-----------------+--------------+\n",
            "|1325317920|4.39|4.39|4.39| 4.39|  0.45558087|     2.0000000193|          4.39|\n",
            "|1325346600|4.39|4.39|4.39| 4.39|        48.0|           210.72|          4.39|\n",
            "|1325350740| 4.5|4.57| 4.5| 4.57| 37.86229723|     171.38033753|  4.5264114983|\n",
            "|1325350800|4.58|4.58|4.58| 4.58|         9.0|            41.22|          4.58|\n",
            "|1325391360|4.58|4.58|4.58| 4.58|       1.502|          6.87916|          4.58|\n",
            "|1325431680|4.84|4.84|4.84| 4.84|        10.0|             48.4|          4.84|\n",
            "|1325457900| 5.0| 5.0| 5.0|  5.0|        10.1|             50.5|           5.0|\n",
            "|1325534640| 5.0| 5.0| 5.0|  5.0|      19.048|            95.24|           5.0|\n",
            "|1325591100|5.32|5.32|5.32| 5.32|  2.41917293|     12.869999988|          5.32|\n",
            "|1325600520|5.14|5.14|5.14| 5.14|        0.68|           3.4952|          5.14|\n",
            "|1325602440|5.26|5.26|5.26| 5.26| 29.31939163|     154.21999997|          5.26|\n",
            "|1325604720|5.29|5.29|5.29| 5.29| 29.30245747|     155.01000002|          5.29|\n",
            "|1325610600|5.29|5.29|5.29| 5.29| 11.28544423|     59.699999977|          5.29|\n",
            "|1325610840|5.14|5.14|5.14| 5.14|        0.02|           0.1028|          5.14|\n",
            "|1325611560|5.29|5.29|5.29| 5.29|        11.0|            58.19|          5.29|\n",
            "|1325611620|5.29|5.29|5.29| 5.29|  4.01081466|     21.217209551|          5.29|\n",
            "|1325650620|4.93|4.93|4.93| 4.93|        2.32|          11.4376|          4.93|\n",
            "|1325653500|4.93|4.93|4.93| 4.93|        9.68|          47.7224|          4.93|\n",
            "|1325680860|5.19|5.19|5.19| 5.19|   2.6416185|     13.710000015|          5.19|\n",
            "|1325681820|5.19|5.19|5.19| 5.19|  8.72447013|     45.279999975|          5.19|\n",
            "+----------+----+----+----+-----+------------+-----------------+--------------+\n",
            "only showing top 20 rows\n",
            "\n"
          ]
        }
      ]
    },
    {
      "cell_type": "code",
      "source": [
        "df_bitcoin.count()"
      ],
      "metadata": {
        "colab": {
          "base_uri": "https://localhost:8080/"
        },
        "id": "s96yerAwpmLe",
        "outputId": "39038586-e60a-45b1-d74c-f44d6f7cf619"
      },
      "execution_count": 17,
      "outputs": [
        {
          "output_type": "execute_result",
          "data": {
            "text/plain": [
              "3613769"
            ]
          },
          "metadata": {},
          "execution_count": 17
        }
      ]
    },
    {
      "cell_type": "code",
      "source": [
        "df_bitcoin.printSchema()"
      ],
      "metadata": {
        "colab": {
          "base_uri": "https://localhost:8080/"
        },
        "id": "O3JKXc2XpmOd",
        "outputId": "670c7349-6caf-458c-c496-ec4ae5bbfa5f"
      },
      "execution_count": 18,
      "outputs": [
        {
          "output_type": "stream",
          "name": "stdout",
          "text": [
            "root\n",
            " |-- Timestamp: integer (nullable = true)\n",
            " |-- Open: double (nullable = true)\n",
            " |-- High: double (nullable = true)\n",
            " |-- Low: double (nullable = true)\n",
            " |-- Close: double (nullable = true)\n",
            " |-- Volume_(BTC): double (nullable = true)\n",
            " |-- Volume_(Currency): double (nullable = true)\n",
            " |-- Weighted_Price: double (nullable = true)\n",
            "\n"
          ]
        }
      ]
    },
    {
      "cell_type": "code",
      "source": [
        "featureassembler=VectorAssembler(inputCols=['Open','High', 'Low','Close','Volume_(BTC)','Volume_(Currency)'],outputCol=\"features\")\n",
        "output=featureassembler.transform(df_bitcoin)\n",
        "finalized_data=output.select(\"features\",\"Weighted_Price\")\n",
        "finalized_data.show()\n",
        "     "
      ],
      "metadata": {
        "colab": {
          "base_uri": "https://localhost:8080/"
        },
        "id": "2pIHj1IspmRW",
        "outputId": "9d010894-4861-40f1-f542-5e4286ce11ac"
      },
      "execution_count": 19,
      "outputs": [
        {
          "output_type": "stream",
          "name": "stdout",
          "text": [
            "+--------------------+--------------+\n",
            "|            features|Weighted_Price|\n",
            "+--------------------+--------------+\n",
            "|[4.39,4.39,4.39,4...|          4.39|\n",
            "|[4.39,4.39,4.39,4...|          4.39|\n",
            "|[4.5,4.57,4.5,4.5...|  4.5264114983|\n",
            "|[4.58,4.58,4.58,4...|          4.58|\n",
            "|[4.58,4.58,4.58,4...|          4.58|\n",
            "|[4.84,4.84,4.84,4...|          4.84|\n",
            "|[5.0,5.0,5.0,5.0,...|           5.0|\n",
            "|[5.0,5.0,5.0,5.0,...|           5.0|\n",
            "|[5.32,5.32,5.32,5...|          5.32|\n",
            "|[5.14,5.14,5.14,5...|          5.14|\n",
            "|[5.26,5.26,5.26,5...|          5.26|\n",
            "|[5.29,5.29,5.29,5...|          5.29|\n",
            "|[5.29,5.29,5.29,5...|          5.29|\n",
            "|[5.14,5.14,5.14,5...|          5.14|\n",
            "|[5.29,5.29,5.29,5...|          5.29|\n",
            "|[5.29,5.29,5.29,5...|          5.29|\n",
            "|[4.93,4.93,4.93,4...|          4.93|\n",
            "|[4.93,4.93,4.93,4...|          4.93|\n",
            "|[5.19,5.19,5.19,5...|          5.19|\n",
            "|[5.19,5.19,5.19,5...|          5.19|\n",
            "+--------------------+--------------+\n",
            "only showing top 20 rows\n",
            "\n"
          ]
        }
      ]
    },
    {
      "cell_type": "code",
      "source": [
        "##train test split\n",
        "train_data,test_data=finalized_data.randomSplit([0.75,0.25])     \n"
      ],
      "metadata": {
        "id": "56_DiPWSpmUd"
      },
      "execution_count": 20,
      "outputs": []
    },
    {
      "cell_type": "markdown",
      "source": [
        "**1. Linear Regression**"
      ],
      "metadata": {
        "id": "x2S2nGdOwYJX"
      }
    },
    {
      "cell_type": "code",
      "source": [
        "lr=LinearRegression(featuresCol='features', labelCol='Weighted_Price')\n",
        "lr=lr.fit(train_data)   \n"
      ],
      "metadata": {
        "id": "I6o_8s95pmXi"
      },
      "execution_count": 21,
      "outputs": []
    },
    {
      "cell_type": "code",
      "source": [
        "tdata = lr.transform(test_data)\n",
        "tdata.show(3)\n",
        "\n",
        "rmse = RegressionEvaluator(labelCol=\"Weighted_Price\", predictionCol=\"prediction\", metricName=\"rmse\")\n",
        "rmse = rmse.evaluate(tdata)\n",
        "mae = RegressionEvaluator(labelCol=\"Weighted_Price\", predictionCol=\"prediction\", metricName=\"mae\")\n",
        "mae = mae.evaluate(tdata)\n",
        "r2 = RegressionEvaluator(labelCol=\"Weighted_Price\", predictionCol=\"prediction\", metricName=\"r2\")\n",
        "r2 = r2.evaluate(tdata)\n",
        "\n",
        "print(\"RMSE: \", rmse)\n",
        "print(\"MAE: \", mae)\n",
        "print(\"R-squared: \", r2)"
      ],
      "metadata": {
        "colab": {
          "base_uri": "https://localhost:8080/"
        },
        "id": "tTgv1c83pmad",
        "outputId": "9f3a9ab8-936c-4fd6-c191-293f4726efb5"
      },
      "execution_count": 22,
      "outputs": [
        {
          "output_type": "stream",
          "name": "stdout",
          "text": [
            "+--------------------+--------------+-----------------+\n",
            "|            features|Weighted_Price|       prediction|\n",
            "+--------------------+--------------+-----------------+\n",
            "|[4.15,4.15,4.15,4...|          4.15|4.279355857961689|\n",
            "|[4.23,4.23,4.23,4...|          4.23|4.352606869592602|\n",
            "|[4.24,4.24,4.21,4...|  4.2184447962|4.334781682124955|\n",
            "+--------------------+--------------+-----------------+\n",
            "only showing top 3 rows\n",
            "\n",
            "RMSE:  3.982799161130571\n",
            "MAE:  1.5562797181405486\n",
            "R-squared:  0.9999998034845409\n"
          ]
        }
      ]
    },
    {
      "cell_type": "code",
      "source": [
        "x_ax = range(0, tdata.count())\n",
        "y_pred=tdata.select(\"prediction\").collect()\n",
        "y_orig=tdata.select(\"Weighted_Price\").collect()\n",
        " \n",
        "plt.plot(x_ax, y_orig, label=\"original\")\n",
        "plt.plot(x_ax, y_pred, label=\"predicted\")\n",
        "plt.title(\"bitstampUSD\")\n",
        "plt.xlabel('X-axis')\n",
        "plt.ylabel('Y-axis')\n",
        "plt.legend(loc='best',fancybox=True, shadow=True)\n",
        "plt.grid(True)\n",
        "plt.show() \n",
        "     "
      ],
      "metadata": {
        "colab": {
          "base_uri": "https://localhost:8080/",
          "height": 295
        },
        "id": "kRDLa5GNpmdF",
        "outputId": "64b3eb2e-4e81-48ef-d34f-e69127e03ddb"
      },
      "execution_count": 23,
      "outputs": [
        {
          "output_type": "display_data",
          "data": {
            "text/plain": [
              "<Figure size 432x288 with 1 Axes>"
            ],
            "image/png": "[encoded data removed]"
          },
          "metadata": {
            "needs_background": "light"
          }
        }
      ]
    },
    {
      "cell_type": "markdown",
      "source": [
        "**2.Generalized Linear Regression**"
      ],
      "metadata": {
        "id": "Qp_2zEntzqAm"
      }
    },
    {
      "cell_type": "code",
      "source": [
        "glr = GeneralizedLinearRegression(labelCol=\"Weighted_Price\",family=\"gaussian\", link=\"identity\", maxIter=10, regParam=0.3)\n",
        "glr = glr.fit(train_data)\n"
      ],
      "metadata": {
        "id": "Nol_AnuUzokv"
      },
      "execution_count": 27,
      "outputs": []
    },
    {
      "cell_type": "code",
      "source": [
        "tdata = glr.transform(test_data)\n",
        "tdata.show(3)\n",
        "\n",
        "rmse = RegressionEvaluator(labelCol=\"Weighted_Price\", predictionCol=\"prediction\", metricName=\"rmse\")\n",
        "rmse = rmse.evaluate(tdata)\n",
        "mae = RegressionEvaluator(labelCol=\"Weighted_Price\", predictionCol=\"prediction\", metricName=\"mae\")\n",
        "mae = mae.evaluate(tdata)\n",
        "r2 = RegressionEvaluator(labelCol=\"Weighted_Price\", predictionCol=\"prediction\", metricName=\"r2\")\n",
        "r2 = r2.evaluate(tdata)\n",
        "\n",
        "print(\"RMSE: \", rmse)\n",
        "print(\"MAE: \", mae)\n",
        "print(\"R-squared: \", r2)"
      ],
      "metadata": {
        "colab": {
          "base_uri": "https://localhost:8080/"
        },
        "id": "0iS8VYv5zone",
        "outputId": "ab3afab2-3ef2-46d5-dac7-606ea7018515"
      },
      "execution_count": 28,
      "outputs": [
        {
          "output_type": "stream",
          "name": "stdout",
          "text": [
            "CPU times: user 3 µs, sys: 0 ns, total: 3 µs\n",
            "Wall time: 6.91 µs\n",
            "+--------------------+--------------+-----------------+\n",
            "|            features|Weighted_Price|       prediction|\n",
            "+--------------------+--------------+-----------------+\n",
            "|[4.15,4.15,4.15,4...|          4.15|4.341468018752612|\n",
            "|[4.23,4.23,4.23,4...|          4.23|4.417156772366522|\n",
            "|[4.24,4.24,4.21,4...|  4.2184447962|4.404941923470783|\n",
            "+--------------------+--------------+-----------------+\n",
            "only showing top 3 rows\n",
            "\n",
            "RMSE:  4.502875689674976\n",
            "MAE:  1.6902811197392336\n",
            "R-squared:  0.99999974881146\n"
          ]
        }
      ]
    },
    {
      "cell_type": "code",
      "source": [
        "x_ax = range(0, tdata.count())\n",
        "y_pred=tdata.select(\"prediction\").collect()\n",
        "y_orig=tdata.select(\"Weighted_Price\").collect()\n",
        " \n",
        "plt.plot(x_ax, y_orig, label=\"original\")\n",
        "plt.plot(x_ax, y_pred, label=\"predicted\")\n",
        "plt.title(\"bitstampUSD\")\n",
        "plt.xlabel('X-axis')\n",
        "plt.ylabel('Y-axis')\n",
        "plt.legend(loc='best',fancybox=True, shadow=True)\n",
        "plt.grid(True)\n",
        "plt.show() "
      ],
      "metadata": {
        "colab": {
          "base_uri": "https://localhost:8080/",
          "height": 295
        },
        "id": "6jS8dw_PB24o",
        "outputId": "43b56cf8-2528-487a-f0ac-a11c697ec14b"
      },
      "execution_count": 29,
      "outputs": [
        {
          "output_type": "display_data",
          "data": {
            "text/plain": [
              "<Figure size 432x288 with 1 Axes>"
            ],
            "image/png": "[encoded data removed]"
          },
          "metadata": {
            "needs_background": "light"
          }
        }
      ]
    },
    {
      "cell_type": "markdown",
      "source": [
        "**3. Gradient Boosted Tree Regression**"
      ],
      "metadata": {
        "id": "4qRVMAjS7OQH"
      }
    },
    {
      "cell_type": "code",
      "source": [
        "gbtr = GBTRegressor(featuresCol='features', labelCol='Weighted_Price', maxIter=10)\n",
        "gbtr = gbtr.fit(train_data)\n"
      ],
      "metadata": {
        "id": "cQ4mWqiVzowP"
      },
      "execution_count": 24,
      "outputs": []
    },
    {
      "cell_type": "code",
      "source": [
        "tdata = gbtr.transform(test_data)\n",
        "tdata.show(3)\n",
        "\n",
        "rmse = RegressionEvaluator(labelCol=\"Weighted_Price\", predictionCol=\"prediction\", metricName=\"rmse\")\n",
        "rmse = rmse.evaluate(tdata)\n",
        "mae = RegressionEvaluator(labelCol=\"Weighted_Price\", predictionCol=\"prediction\", metricName=\"mae\")\n",
        "mae = mae.evaluate(tdata)\n",
        "r2 = RegressionEvaluator(labelCol=\"Weighted_Price\", predictionCol=\"prediction\", metricName=\"r2\")\n",
        "r2 = r2.evaluate(tdata)\n",
        "\n",
        "print(\"RMSE: \", rmse)\n",
        "print(\"MAE: \", mae)\n",
        "print(\"R-squared: \", r2)"
      ],
      "metadata": {
        "colab": {
          "base_uri": "https://localhost:8080/"
        },
        "id": "lepZImW3zoyu",
        "outputId": "447280cd-3612-434a-c193-b2812ed0dd68"
      },
      "execution_count": 25,
      "outputs": [
        {
          "output_type": "stream",
          "name": "stdout",
          "text": [
            "+--------------------+--------------+------------------+\n",
            "|            features|Weighted_Price|        prediction|\n",
            "+--------------------+--------------+------------------+\n",
            "|[4.15,4.15,4.15,4...|          4.15|191.45703691939377|\n",
            "|[4.23,4.23,4.23,4...|          4.23|191.45703691939377|\n",
            "|[4.24,4.24,4.21,4...|  4.2184447962|191.45703691939377|\n",
            "+--------------------+--------------+------------------+\n",
            "only showing top 3 rows\n",
            "\n",
            "RMSE:  1418.9214808456177\n",
            "MAE:  481.4993769973928\n",
            "R-squared:  0.9750576922621599\n"
          ]
        }
      ]
    },
    {
      "cell_type": "code",
      "source": [
        "x_ax = range(0, tdata.count())\n",
        "y_pred=tdata.select(\"prediction\").collect()\n",
        "y_orig=tdata.select(\"Weighted_Price\").collect()\n",
        " \n",
        "plt.plot(x_ax, y_orig, label=\"original\")\n",
        "plt.plot(x_ax, y_pred, label=\"predicted\")\n",
        "plt.title(\"bitstampUSD\")\n",
        "plt.xlabel('X-axis')\n",
        "plt.ylabel('Y-axis')\n",
        "plt.legend(loc='best',fancybox=True, shadow=True)\n",
        "plt.grid(True)\n",
        "plt.show() "
      ],
      "metadata": {
        "colab": {
          "base_uri": "https://localhost:8080/",
          "height": 295
        },
        "id": "buKJYoBfzo1x",
        "outputId": "3df16a12-373c-4e3e-a428-af46c3c0ac01"
      },
      "execution_count": 26,
      "outputs": [
        {
          "output_type": "display_data",
          "data": {
            "text/plain": [
              "<Figure size 432x288 with 1 Axes>"
            ],
            "image/png": "[encoded data removed]"
          },
          "metadata": {
            "needs_background": "light"
          }
        }
      ]
    },
    {
      "cell_type": "code",
      "source": [],
      "metadata": {
        "id": "R40TN-Ljzo3-"
      },
      "execution_count": null,
      "outputs": []
    },
    {
      "cell_type": "code",
      "source": [],
      "metadata": {
        "id": "sXkMf6Qjzo7R"
      },
      "execution_count": null,
      "outputs": []
    },
    {
      "cell_type": "code",
      "source": [],
      "metadata": {
        "id": "ra1SeayAzo94"
      },
      "execution_count": null,
      "outputs": []
    },
    {
      "cell_type": "code",
      "source": [],
      "metadata": {
        "id": "08vRPsIlzpAf"
      },
      "execution_count": null,
      "outputs": []
    },
    {
      "cell_type": "code",
      "source": [],
      "metadata": {
        "id": "FLAFy_qszpDe"
      },
      "execution_count": null,
      "outputs": []
    },
    {
      "cell_type": "code",
      "source": [],
      "metadata": {
        "id": "7DjsCLErzpGe"
      },
      "execution_count": null,
      "outputs": []
    },
    {
      "cell_type": "code",
      "source": [],
      "metadata": {
        "id": "pTeFlBHczpJg"
      },
      "execution_count": null,
      "outputs": []
    },
    {
      "cell_type": "code",
      "source": [],
      "metadata": {
        "id": "i7h7ymVBzpMN"
      },
      "execution_count": null,
      "outputs": []
    }
  ]
}
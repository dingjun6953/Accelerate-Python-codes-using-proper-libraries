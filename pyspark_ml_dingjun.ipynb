{
  "cells": [
    {
      "cell_type": "markdown",
      "metadata": {
        "id": "view-in-github",
        "colab_type": "text"
      },
      "source": [
        "<a href=\"https://colab.research.google.com/github/dingjun6953/Accelerate-Python-codes-using-proper-libraries/blob/main/pyspark_ml_dingjun.ipynb\" target=\"_parent\"><img src=\"https://colab.research.google.com/assets/colab-badge.svg\" alt=\"Open In Colab\"/></a>"
      ]
    },
    {
      "cell_type": "code",
      "source": [
        "!pip install pyspark\n",
        "from pyspark.sql import SparkSession\n",
        "spark=SparkSession.builder.appName('Pyspark_Dingjun').getOrCreate()\n",
        "\n"
      ],
      "metadata": {
        "application/vnd.databricks.v1+cell": {
          "title": "",
          "showTitle": false,
          "inputWidgets": {},
          "nuid": "6482be4c-f067-47c9-b0ac-35c938b94601"
        },
        "colab": {
          "base_uri": "https://localhost:8080/"
        },
        "id": "5jjl-p_csoap",
        "outputId": "60524e99-e44c-4e79-f68b-565fe79f325f"
      },
      "outputs": [
        {
          "output_type": "stream",
          "name": "stdout",
          "text": [
            "Looking in indexes: https://pypi.org/simple, https://us-python.pkg.dev/colab-wheels/public/simple/\n",
            "Collecting pyspark\n",
            "  Downloading pyspark-3.3.2.tar.gz (281.4 MB)\n",
            "\u001b[2K     \u001b[90m━━━━━━━━━━━━━━━━━━━━━━━━━━━━━━━━━━━━━━━\u001b[0m \u001b[32m281.4/281.4 MB\u001b[0m \u001b[31m4.9 MB/s\u001b[0m eta \u001b[36m0:00:00\u001b[0m\n",
            "\u001b[?25h  Preparing metadata (setup.py) ... \u001b[?25l\u001b[?25hdone\n",
            "Collecting py4j==0.10.9.5\n",
            "  Downloading py4j-0.10.9.5-py2.py3-none-any.whl (199 kB)\n",
            "\u001b[2K     \u001b[90m━━━━━━━━━━━━━━━━━━━━━━━━━━━━━━━━━━━━━━\u001b[0m \u001b[32m199.7/199.7 KB\u001b[0m \u001b[31m17.6 MB/s\u001b[0m eta \u001b[36m0:00:00\u001b[0m\n",
            "\u001b[?25hBuilding wheels for collected packages: pyspark\n",
            "  Building wheel for pyspark (setup.py) ... \u001b[?25l\u001b[?25hdone\n",
            "  Created wheel for pyspark: filename=pyspark-3.3.2-py2.py3-none-any.whl size=281824028 sha256=eac4cb56976f9014d1e1223433281806b2dcba6b2fb72394c749e9da73679bf1\n",
            "  Stored in directory: /root/.cache/pip/wheels/6c/e3/9b/0525ce8a69478916513509d43693511463c6468db0de237c86\n",
            "Successfully built pyspark\n",
            "Installing collected packages: py4j, pyspark\n",
            "Successfully installed py4j-0.10.9.5 pyspark-3.3.2\n"
          ]
        }
      ],
      "execution_count": null
    },
    {
      "cell_type": "code",
      "source": [
        "# The applied options are for CSV files. For other file types, these will be ignored.\n",
        "df =spark.read.csv('tips.csv',header=True,inferSchema=True)\n",
        "df.show()"
      ],
      "metadata": {
        "colab": {
          "base_uri": "https://localhost:8080/"
        },
        "id": "dtg_8V89tKXR",
        "outputId": "ffa8ea6d-cd5b-42cf-de1e-6d6f3923aed9"
      },
      "execution_count": null,
      "outputs": [
        {
          "output_type": "stream",
          "name": "stdout",
          "text": [
            "+----------+----+------+------+---+------+----+\n",
            "|total_bill| tip|   sex|smoker|day|  time|size|\n",
            "+----------+----+------+------+---+------+----+\n",
            "|     16.99|1.01|Female|    No|Sun|Dinner|   2|\n",
            "|     10.34|1.66|  Male|    No|Sun|Dinner|   3|\n",
            "|     21.01| 3.5|  Male|    No|Sun|Dinner|   3|\n",
            "|     23.68|3.31|  Male|    No|Sun|Dinner|   2|\n",
            "|     24.59|3.61|Female|    No|Sun|Dinner|   4|\n",
            "|     25.29|4.71|  Male|    No|Sun|Dinner|   4|\n",
            "|      8.77| 2.0|  Male|    No|Sun|Dinner|   2|\n",
            "|     26.88|3.12|  Male|    No|Sun|Dinner|   4|\n",
            "|     15.04|1.96|  Male|    No|Sun|Dinner|   2|\n",
            "|     14.78|3.23|  Male|    No|Sun|Dinner|   2|\n",
            "|     10.27|1.71|  Male|    No|Sun|Dinner|   2|\n",
            "|     35.26| 5.0|Female|    No|Sun|Dinner|   4|\n",
            "|     15.42|1.57|  Male|    No|Sun|Dinner|   2|\n",
            "|     18.43| 3.0|  Male|    No|Sun|Dinner|   4|\n",
            "|     14.83|3.02|Female|    No|Sun|Dinner|   2|\n",
            "|     21.58|3.92|  Male|    No|Sun|Dinner|   2|\n",
            "|     10.33|1.67|Female|    No|Sun|Dinner|   3|\n",
            "|     16.29|3.71|  Male|    No|Sun|Dinner|   3|\n",
            "|     16.97| 3.5|Female|    No|Sun|Dinner|   3|\n",
            "|     20.65|3.35|  Male|    No|Sat|Dinner|   3|\n",
            "+----------+----+------+------+---+------+----+\n",
            "only showing top 20 rows\n",
            "\n"
          ]
        }
      ]
    },
    {
      "cell_type": "code",
      "source": [
        "df.printSchema()"
      ],
      "metadata": {
        "application/vnd.databricks.v1+cell": {
          "title": "",
          "showTitle": false,
          "inputWidgets": {},
          "nuid": "5e5b80f2-3426-44e1-b86e-171314f4827e"
        },
        "colab": {
          "base_uri": "https://localhost:8080/"
        },
        "id": "0S0cbRaEsoar",
        "outputId": "e3fc4418-c539-45b4-b54d-39be8e08df97"
      },
      "outputs": [
        {
          "output_type": "stream",
          "name": "stdout",
          "text": [
            "root\n",
            " |-- total_bill: double (nullable = true)\n",
            " |-- tip: double (nullable = true)\n",
            " |-- sex: string (nullable = true)\n",
            " |-- smoker: string (nullable = true)\n",
            " |-- day: string (nullable = true)\n",
            " |-- time: string (nullable = true)\n",
            " |-- size: integer (nullable = true)\n",
            "\n"
          ]
        }
      ],
      "execution_count": null
    },
    {
      "cell_type": "code",
      "source": [
        "df.columns"
      ],
      "metadata": {
        "application/vnd.databricks.v1+cell": {
          "title": "",
          "showTitle": false,
          "inputWidgets": {},
          "nuid": "0432b71c-b266-417d-b0d5-1c17afa0f090"
        },
        "colab": {
          "base_uri": "https://localhost:8080/"
        },
        "id": "UPFuUkhxsoas",
        "outputId": "6c2a9a18-61ce-44f2-affc-9f69e4d071af"
      },
      "outputs": [
        {
          "output_type": "execute_result",
          "data": {
            "text/plain": [
              "['total_bill', 'tip', 'sex', 'smoker', 'day', 'time', 'size']"
            ]
          },
          "metadata": {},
          "execution_count": 4
        }
      ],
      "execution_count": null
    },
    {
      "cell_type": "code",
      "source": [
        "### Handling Categorical Features\n",
        "from pyspark.ml.feature import StringIndexer"
      ],
      "metadata": {
        "application/vnd.databricks.v1+cell": {
          "title": "",
          "showTitle": false,
          "inputWidgets": {},
          "nuid": "0ae62ac1-81a6-4b1d-92b9-f85ec9cc93ff"
        },
        "id": "-mIqaWygsoas"
      },
      "outputs": [],
      "execution_count": null
    },
    {
      "cell_type": "code",
      "source": [
        "df.show()"
      ],
      "metadata": {
        "application/vnd.databricks.v1+cell": {
          "title": "",
          "showTitle": false,
          "inputWidgets": {},
          "nuid": "faa6f9b0-6f8b-4dbd-a5a2-dc074181f2e3"
        },
        "colab": {
          "base_uri": "https://localhost:8080/"
        },
        "id": "EWmZAX1Psoat",
        "outputId": "f406c708-30d3-4f07-a267-710777af4463"
      },
      "outputs": [
        {
          "output_type": "stream",
          "name": "stdout",
          "text": [
            "+----------+----+------+------+---+------+----+\n",
            "|total_bill| tip|   sex|smoker|day|  time|size|\n",
            "+----------+----+------+------+---+------+----+\n",
            "|     16.99|1.01|Female|    No|Sun|Dinner|   2|\n",
            "|     10.34|1.66|  Male|    No|Sun|Dinner|   3|\n",
            "|     21.01| 3.5|  Male|    No|Sun|Dinner|   3|\n",
            "|     23.68|3.31|  Male|    No|Sun|Dinner|   2|\n",
            "|     24.59|3.61|Female|    No|Sun|Dinner|   4|\n",
            "|     25.29|4.71|  Male|    No|Sun|Dinner|   4|\n",
            "|      8.77| 2.0|  Male|    No|Sun|Dinner|   2|\n",
            "|     26.88|3.12|  Male|    No|Sun|Dinner|   4|\n",
            "|     15.04|1.96|  Male|    No|Sun|Dinner|   2|\n",
            "|     14.78|3.23|  Male|    No|Sun|Dinner|   2|\n",
            "|     10.27|1.71|  Male|    No|Sun|Dinner|   2|\n",
            "|     35.26| 5.0|Female|    No|Sun|Dinner|   4|\n",
            "|     15.42|1.57|  Male|    No|Sun|Dinner|   2|\n",
            "|     18.43| 3.0|  Male|    No|Sun|Dinner|   4|\n",
            "|     14.83|3.02|Female|    No|Sun|Dinner|   2|\n",
            "|     21.58|3.92|  Male|    No|Sun|Dinner|   2|\n",
            "|     10.33|1.67|Female|    No|Sun|Dinner|   3|\n",
            "|     16.29|3.71|  Male|    No|Sun|Dinner|   3|\n",
            "|     16.97| 3.5|Female|    No|Sun|Dinner|   3|\n",
            "|     20.65|3.35|  Male|    No|Sat|Dinner|   3|\n",
            "+----------+----+------+------+---+------+----+\n",
            "only showing top 20 rows\n",
            "\n"
          ]
        }
      ],
      "execution_count": null
    },
    {
      "cell_type": "code",
      "source": [
        "indexer=StringIndexer(inputCol=\"sex\",outputCol=\"sex_indexed\")\n",
        "df_rdd=indexer.fit(df).transform(df)\n",
        "df_rdd.show()"
      ],
      "metadata": {
        "application/vnd.databricks.v1+cell": {
          "title": "",
          "showTitle": false,
          "inputWidgets": {},
          "nuid": "2ee7ab64-9804-4afb-852c-ee02eb5d3a20"
        },
        "colab": {
          "base_uri": "https://localhost:8080/"
        },
        "id": "Q2iTXqf8soat",
        "outputId": "da5cfac6-2683-4c29-a162-cee35f9a749b"
      },
      "outputs": [
        {
          "output_type": "stream",
          "name": "stdout",
          "text": [
            "+----------+----+------+------+---+------+----+-----------+\n",
            "|total_bill| tip|   sex|smoker|day|  time|size|sex_indexed|\n",
            "+----------+----+------+------+---+------+----+-----------+\n",
            "|     16.99|1.01|Female|    No|Sun|Dinner|   2|        1.0|\n",
            "|     10.34|1.66|  Male|    No|Sun|Dinner|   3|        0.0|\n",
            "|     21.01| 3.5|  Male|    No|Sun|Dinner|   3|        0.0|\n",
            "|     23.68|3.31|  Male|    No|Sun|Dinner|   2|        0.0|\n",
            "|     24.59|3.61|Female|    No|Sun|Dinner|   4|        1.0|\n",
            "|     25.29|4.71|  Male|    No|Sun|Dinner|   4|        0.0|\n",
            "|      8.77| 2.0|  Male|    No|Sun|Dinner|   2|        0.0|\n",
            "|     26.88|3.12|  Male|    No|Sun|Dinner|   4|        0.0|\n",
            "|     15.04|1.96|  Male|    No|Sun|Dinner|   2|        0.0|\n",
            "|     14.78|3.23|  Male|    No|Sun|Dinner|   2|        0.0|\n",
            "|     10.27|1.71|  Male|    No|Sun|Dinner|   2|        0.0|\n",
            "|     35.26| 5.0|Female|    No|Sun|Dinner|   4|        1.0|\n",
            "|     15.42|1.57|  Male|    No|Sun|Dinner|   2|        0.0|\n",
            "|     18.43| 3.0|  Male|    No|Sun|Dinner|   4|        0.0|\n",
            "|     14.83|3.02|Female|    No|Sun|Dinner|   2|        1.0|\n",
            "|     21.58|3.92|  Male|    No|Sun|Dinner|   2|        0.0|\n",
            "|     10.33|1.67|Female|    No|Sun|Dinner|   3|        1.0|\n",
            "|     16.29|3.71|  Male|    No|Sun|Dinner|   3|        0.0|\n",
            "|     16.97| 3.5|Female|    No|Sun|Dinner|   3|        1.0|\n",
            "|     20.65|3.35|  Male|    No|Sat|Dinner|   3|        0.0|\n",
            "+----------+----+------+------+---+------+----+-----------+\n",
            "only showing top 20 rows\n",
            "\n"
          ]
        }
      ],
      "execution_count": null
    },
    {
      "cell_type": "code",
      "source": [
        "indexer=StringIndexer(inputCols=[\"smoker\",\"day\",\"time\"],outputCols=[\"smoker_indexed\",\"day_indexed\",\n",
        "                                                                  \"time_index\"])\n",
        "df_rdd=indexer.fit(df_rdd).transform(df_rdd)\n",
        "df_rdd.show()"
      ],
      "metadata": {
        "application/vnd.databricks.v1+cell": {
          "title": "",
          "showTitle": false,
          "inputWidgets": {},
          "nuid": "6b95d734-4c80-4762-bd9b-92b6a107dced"
        },
        "colab": {
          "base_uri": "https://localhost:8080/"
        },
        "id": "ZlFHkXCmsoat",
        "outputId": "3294f2c8-6057-401d-dc7e-c4c080d90e39"
      },
      "outputs": [
        {
          "output_type": "stream",
          "name": "stdout",
          "text": [
            "+----------+----+------+------+---+------+----+-----------+--------------+-----------+----------+\n",
            "|total_bill| tip|   sex|smoker|day|  time|size|sex_indexed|smoker_indexed|day_indexed|time_index|\n",
            "+----------+----+------+------+---+------+----+-----------+--------------+-----------+----------+\n",
            "|     16.99|1.01|Female|    No|Sun|Dinner|   2|        1.0|           0.0|        1.0|       0.0|\n",
            "|     10.34|1.66|  Male|    No|Sun|Dinner|   3|        0.0|           0.0|        1.0|       0.0|\n",
            "|     21.01| 3.5|  Male|    No|Sun|Dinner|   3|        0.0|           0.0|        1.0|       0.0|\n",
            "|     23.68|3.31|  Male|    No|Sun|Dinner|   2|        0.0|           0.0|        1.0|       0.0|\n",
            "|     24.59|3.61|Female|    No|Sun|Dinner|   4|        1.0|           0.0|        1.0|       0.0|\n",
            "|     25.29|4.71|  Male|    No|Sun|Dinner|   4|        0.0|           0.0|        1.0|       0.0|\n",
            "|      8.77| 2.0|  Male|    No|Sun|Dinner|   2|        0.0|           0.0|        1.0|       0.0|\n",
            "|     26.88|3.12|  Male|    No|Sun|Dinner|   4|        0.0|           0.0|        1.0|       0.0|\n",
            "|     15.04|1.96|  Male|    No|Sun|Dinner|   2|        0.0|           0.0|        1.0|       0.0|\n",
            "|     14.78|3.23|  Male|    No|Sun|Dinner|   2|        0.0|           0.0|        1.0|       0.0|\n",
            "|     10.27|1.71|  Male|    No|Sun|Dinner|   2|        0.0|           0.0|        1.0|       0.0|\n",
            "|     35.26| 5.0|Female|    No|Sun|Dinner|   4|        1.0|           0.0|        1.0|       0.0|\n",
            "|     15.42|1.57|  Male|    No|Sun|Dinner|   2|        0.0|           0.0|        1.0|       0.0|\n",
            "|     18.43| 3.0|  Male|    No|Sun|Dinner|   4|        0.0|           0.0|        1.0|       0.0|\n",
            "|     14.83|3.02|Female|    No|Sun|Dinner|   2|        1.0|           0.0|        1.0|       0.0|\n",
            "|     21.58|3.92|  Male|    No|Sun|Dinner|   2|        0.0|           0.0|        1.0|       0.0|\n",
            "|     10.33|1.67|Female|    No|Sun|Dinner|   3|        1.0|           0.0|        1.0|       0.0|\n",
            "|     16.29|3.71|  Male|    No|Sun|Dinner|   3|        0.0|           0.0|        1.0|       0.0|\n",
            "|     16.97| 3.5|Female|    No|Sun|Dinner|   3|        1.0|           0.0|        1.0|       0.0|\n",
            "|     20.65|3.35|  Male|    No|Sat|Dinner|   3|        0.0|           0.0|        0.0|       0.0|\n",
            "+----------+----+------+------+---+------+----+-----------+--------------+-----------+----------+\n",
            "only showing top 20 rows\n",
            "\n"
          ]
        }
      ],
      "execution_count": null
    },
    {
      "cell_type": "code",
      "source": [
        "df_rdd.columns"
      ],
      "metadata": {
        "application/vnd.databricks.v1+cell": {
          "title": "",
          "showTitle": false,
          "inputWidgets": {},
          "nuid": "a9909b0b-caee-4838-b477-47c3701dbfd4"
        },
        "colab": {
          "base_uri": "https://localhost:8080/"
        },
        "id": "0s8LTCNusoau",
        "outputId": "1dcd1999-467b-41bc-dde2-b039fa6f4982"
      },
      "outputs": [
        {
          "output_type": "execute_result",
          "data": {
            "text/plain": [
              "['total_bill',\n",
              " 'tip',\n",
              " 'sex',\n",
              " 'smoker',\n",
              " 'day',\n",
              " 'time',\n",
              " 'size',\n",
              " 'sex_indexed',\n",
              " 'smoker_indexed',\n",
              " 'day_indexed',\n",
              " 'time_index']"
            ]
          },
          "metadata": {},
          "execution_count": 11
        }
      ],
      "execution_count": null
    },
    {
      "cell_type": "code",
      "source": [
        "from pyspark.ml.feature import VectorAssembler\n",
        "featureassembler=VectorAssembler(inputCols=['tip','size','sex_indexed','smoker_indexed','day_indexed',\n",
        "                          'time_index'],outputCol=\"Independent Features\")\n",
        "output=featureassembler.transform(df_rdd)\n",
        "\n",
        "featureassembler=VectorAssembler(inputCols=['Independent Features'],outputCol='features')\n",
        "output=featureassembler.transform(output)"
      ],
      "metadata": {
        "application/vnd.databricks.v1+cell": {
          "title": "",
          "showTitle": false,
          "inputWidgets": {},
          "nuid": "61d875e5-71fa-4dc4-ae90-54924b00a632"
        },
        "id": "G4ZHnqq0soau"
      },
      "outputs": [],
      "execution_count": null
    },
    {
      "cell_type": "code",
      "source": [
        "output.show()"
      ],
      "metadata": {
        "application/vnd.databricks.v1+cell": {
          "title": "",
          "showTitle": false,
          "inputWidgets": {},
          "nuid": "f2646b66-7710-4297-a6e1-156a37e6582d"
        },
        "colab": {
          "base_uri": "https://localhost:8080/"
        },
        "id": "AvPtRSutsoav",
        "outputId": "7dfb2945-ca62-4e1e-dab9-7911bb8fb0ea"
      },
      "outputs": [
        {
          "output_type": "stream",
          "name": "stdout",
          "text": [
            "+----------+----+------+------+---+------+----+-----------+--------------+-----------+----------+--------------------+--------------------+\n",
            "|total_bill| tip|   sex|smoker|day|  time|size|sex_indexed|smoker_indexed|day_indexed|time_index|Independent Features|            features|\n",
            "+----------+----+------+------+---+------+----+-----------+--------------+-----------+----------+--------------------+--------------------+\n",
            "|     16.99|1.01|Female|    No|Sun|Dinner|   2|        1.0|           0.0|        1.0|       0.0|[1.01,2.0,1.0,0.0...|[1.01,2.0,1.0,0.0...|\n",
            "|     10.34|1.66|  Male|    No|Sun|Dinner|   3|        0.0|           0.0|        1.0|       0.0|[1.66,3.0,0.0,0.0...|[1.66,3.0,0.0,0.0...|\n",
            "|     21.01| 3.5|  Male|    No|Sun|Dinner|   3|        0.0|           0.0|        1.0|       0.0|[3.5,3.0,0.0,0.0,...|[3.5,3.0,0.0,0.0,...|\n",
            "|     23.68|3.31|  Male|    No|Sun|Dinner|   2|        0.0|           0.0|        1.0|       0.0|[3.31,2.0,0.0,0.0...|[3.31,2.0,0.0,0.0...|\n",
            "|     24.59|3.61|Female|    No|Sun|Dinner|   4|        1.0|           0.0|        1.0|       0.0|[3.61,4.0,1.0,0.0...|[3.61,4.0,1.0,0.0...|\n",
            "|     25.29|4.71|  Male|    No|Sun|Dinner|   4|        0.0|           0.0|        1.0|       0.0|[4.71,4.0,0.0,0.0...|[4.71,4.0,0.0,0.0...|\n",
            "|      8.77| 2.0|  Male|    No|Sun|Dinner|   2|        0.0|           0.0|        1.0|       0.0|[2.0,2.0,0.0,0.0,...|[2.0,2.0,0.0,0.0,...|\n",
            "|     26.88|3.12|  Male|    No|Sun|Dinner|   4|        0.0|           0.0|        1.0|       0.0|[3.12,4.0,0.0,0.0...|[3.12,4.0,0.0,0.0...|\n",
            "|     15.04|1.96|  Male|    No|Sun|Dinner|   2|        0.0|           0.0|        1.0|       0.0|[1.96,2.0,0.0,0.0...|[1.96,2.0,0.0,0.0...|\n",
            "|     14.78|3.23|  Male|    No|Sun|Dinner|   2|        0.0|           0.0|        1.0|       0.0|[3.23,2.0,0.0,0.0...|[3.23,2.0,0.0,0.0...|\n",
            "|     10.27|1.71|  Male|    No|Sun|Dinner|   2|        0.0|           0.0|        1.0|       0.0|[1.71,2.0,0.0,0.0...|[1.71,2.0,0.0,0.0...|\n",
            "|     35.26| 5.0|Female|    No|Sun|Dinner|   4|        1.0|           0.0|        1.0|       0.0|[5.0,4.0,1.0,0.0,...|[5.0,4.0,1.0,0.0,...|\n",
            "|     15.42|1.57|  Male|    No|Sun|Dinner|   2|        0.0|           0.0|        1.0|       0.0|[1.57,2.0,0.0,0.0...|[1.57,2.0,0.0,0.0...|\n",
            "|     18.43| 3.0|  Male|    No|Sun|Dinner|   4|        0.0|           0.0|        1.0|       0.0|[3.0,4.0,0.0,0.0,...|[3.0,4.0,0.0,0.0,...|\n",
            "|     14.83|3.02|Female|    No|Sun|Dinner|   2|        1.0|           0.0|        1.0|       0.0|[3.02,2.0,1.0,0.0...|[3.02,2.0,1.0,0.0...|\n",
            "|     21.58|3.92|  Male|    No|Sun|Dinner|   2|        0.0|           0.0|        1.0|       0.0|[3.92,2.0,0.0,0.0...|[3.92,2.0,0.0,0.0...|\n",
            "|     10.33|1.67|Female|    No|Sun|Dinner|   3|        1.0|           0.0|        1.0|       0.0|[1.67,3.0,1.0,0.0...|[1.67,3.0,1.0,0.0...|\n",
            "|     16.29|3.71|  Male|    No|Sun|Dinner|   3|        0.0|           0.0|        1.0|       0.0|[3.71,3.0,0.0,0.0...|[3.71,3.0,0.0,0.0...|\n",
            "|     16.97| 3.5|Female|    No|Sun|Dinner|   3|        1.0|           0.0|        1.0|       0.0|[3.5,3.0,1.0,0.0,...|[3.5,3.0,1.0,0.0,...|\n",
            "|     20.65|3.35|  Male|    No|Sat|Dinner|   3|        0.0|           0.0|        0.0|       0.0|(6,[0,1],[3.35,3.0])|(6,[0,1],[3.35,3.0])|\n",
            "+----------+----+------+------+---+------+----+-----------+--------------+-----------+----------+--------------------+--------------------+\n",
            "only showing top 20 rows\n",
            "\n"
          ]
        }
      ],
      "execution_count": null
    },
    {
      "cell_type": "code",
      "source": [
        "finalized_data=output.select(\"Independent Features\",\"total_bill\")"
      ],
      "metadata": {
        "application/vnd.databricks.v1+cell": {
          "title": "",
          "showTitle": false,
          "inputWidgets": {},
          "nuid": "d1c1fa4c-c78a-441a-bed9-3bcfcc5af966"
        },
        "id": "ZBvj7_Iisoav"
      },
      "outputs": [],
      "execution_count": null
    },
    {
      "cell_type": "code",
      "source": [
        "finalized_data.show()"
      ],
      "metadata": {
        "application/vnd.databricks.v1+cell": {
          "title": "",
          "showTitle": false,
          "inputWidgets": {},
          "nuid": "3d14fe7b-bc59-4376-8139-142283af09b0"
        },
        "colab": {
          "base_uri": "https://localhost:8080/"
        },
        "id": "oa9ifOTfsoav",
        "outputId": "f4f32f10-c975-4356-b4ce-e6497c059b85"
      },
      "outputs": [
        {
          "output_type": "stream",
          "name": "stdout",
          "text": [
            "+--------------------+----------+\n",
            "|Independent Features|total_bill|\n",
            "+--------------------+----------+\n",
            "|[1.01,2.0,1.0,0.0...|     16.99|\n",
            "|[1.66,3.0,0.0,0.0...|     10.34|\n",
            "|[3.5,3.0,0.0,0.0,...|     21.01|\n",
            "|[3.31,2.0,0.0,0.0...|     23.68|\n",
            "|[3.61,4.0,1.0,0.0...|     24.59|\n",
            "|[4.71,4.0,0.0,0.0...|     25.29|\n",
            "|[2.0,2.0,0.0,0.0,...|      8.77|\n",
            "|[3.12,4.0,0.0,0.0...|     26.88|\n",
            "|[1.96,2.0,0.0,0.0...|     15.04|\n",
            "|[3.23,2.0,0.0,0.0...|     14.78|\n",
            "|[1.71,2.0,0.0,0.0...|     10.27|\n",
            "|[5.0,4.0,1.0,0.0,...|     35.26|\n",
            "|[1.57,2.0,0.0,0.0...|     15.42|\n",
            "|[3.0,4.0,0.0,0.0,...|     18.43|\n",
            "|[3.02,2.0,1.0,0.0...|     14.83|\n",
            "|[3.92,2.0,0.0,0.0...|     21.58|\n",
            "|[1.67,3.0,1.0,0.0...|     10.33|\n",
            "|[3.71,3.0,0.0,0.0...|     16.29|\n",
            "|[3.5,3.0,1.0,0.0,...|     16.97|\n",
            "|(6,[0,1],[3.35,3.0])|     20.65|\n",
            "+--------------------+----------+\n",
            "only showing top 20 rows\n",
            "\n"
          ]
        }
      ],
      "execution_count": null
    },
    {
      "cell_type": "code",
      "source": [
        "from pyspark.ml.regression import LinearRegression\n",
        "##train test split\n",
        "train_data,test_data=finalized_data.randomSplit([0.75,0.25])\n",
        "regressor=LinearRegression(featuresCol='Independent Features', labelCol='total_bill')\n",
        "regressor=regressor.fit(train_data)"
      ],
      "metadata": {
        "application/vnd.databricks.v1+cell": {
          "title": "",
          "showTitle": false,
          "inputWidgets": {},
          "nuid": "dbe03a38-e728-40f9-8a53-0b7968b8dc87"
        },
        "id": "Z4k4Unn5soaw"
      },
      "outputs": [],
      "execution_count": null
    },
    {
      "cell_type": "code",
      "source": [
        "regressor.coefficients"
      ],
      "metadata": {
        "application/vnd.databricks.v1+cell": {
          "title": "",
          "showTitle": false,
          "inputWidgets": {},
          "nuid": "0fdc835a-96fb-4ab3-89be-6cfbc57c7ac6"
        },
        "colab": {
          "base_uri": "https://localhost:8080/"
        },
        "id": "dERHksTlsoaw",
        "outputId": "661b12e2-a833-4ba5-d9ea-d390d4e67b0f"
      },
      "outputs": [
        {
          "output_type": "execute_result",
          "data": {
            "text/plain": [
              "DenseVector([3.2181, 3.2248, -0.4961, 1.8865, -0.244, -1.1759])"
            ]
          },
          "metadata": {},
          "execution_count": 19
        }
      ],
      "execution_count": null
    },
    {
      "cell_type": "code",
      "source": [
        "regressor.intercept"
      ],
      "metadata": {
        "application/vnd.databricks.v1+cell": {
          "title": "",
          "showTitle": false,
          "inputWidgets": {},
          "nuid": "fd1642d4-bb73-4fc0-a410-ada61d0f3410"
        },
        "colab": {
          "base_uri": "https://localhost:8080/"
        },
        "id": "UScg2RzLsoaw",
        "outputId": "ff78a694-3340-4379-c351-4781fc96cef5"
      },
      "outputs": [
        {
          "output_type": "execute_result",
          "data": {
            "text/plain": [
              "1.648681900876396"
            ]
          },
          "metadata": {},
          "execution_count": 20
        }
      ],
      "execution_count": null
    },
    {
      "cell_type": "code",
      "source": [
        "### Predictions\n",
        "pred_results=regressor.evaluate(test_data)"
      ],
      "metadata": {
        "application/vnd.databricks.v1+cell": {
          "title": "",
          "showTitle": false,
          "inputWidgets": {},
          "nuid": "2e45a3d8-af1c-408b-b64f-fe466c3401bd"
        },
        "id": "nWpESaxasoaw"
      },
      "outputs": [],
      "execution_count": null
    },
    {
      "cell_type": "code",
      "source": [
        "## Final comparison\n",
        "pred_results.predictions.show()"
      ],
      "metadata": {
        "application/vnd.databricks.v1+cell": {
          "title": "",
          "showTitle": false,
          "inputWidgets": {},
          "nuid": "01d128d2-1a71-44d0-a14c-b0377693547b"
        },
        "colab": {
          "base_uri": "https://localhost:8080/"
        },
        "id": "AiyQHvP8soaw",
        "outputId": "231e011e-e1fd-4a34-9cf9-f26bfaf101d2"
      },
      "outputs": [
        {
          "output_type": "stream",
          "name": "stdout",
          "text": [
            "+--------------------+----------+------------------+\n",
            "|Independent Features|total_bill|        prediction|\n",
            "+--------------------+----------+------------------+\n",
            "| (6,[0,1],[2.0,2.0])|     13.37|14.534503009226315|\n",
            "| (6,[0,1],[2.5,4.0])|     18.35|22.593110650721353|\n",
            "|(6,[0,1],[2.64,3.0])|     17.59|19.818882331356107|\n",
            "| (6,[0,1],[3.0,2.0])|      14.0|17.752645320462904|\n",
            "|(6,[0,1],[3.27,2.0])|     17.78|18.621543744496783|\n",
            "|(6,[0,1],[3.76,2.0])|     18.24|20.198433477002713|\n",
            "|(6,[0,1],[7.58,4.0])|     39.42|38.941273591803224|\n",
            "|[1.0,1.0,1.0,0.0,...|      7.25| 7.595488061915685|\n",
            "|[1.0,1.0,1.0,1.0,...|      3.07| 9.481966915945952|\n",
            "|[1.01,2.0,1.0,0.0...|     16.99|10.608422660317943|\n",
            "|[1.17,2.0,0.0,1.0...|     32.83|13.749923744930214|\n",
            "|[1.25,2.0,1.0,0.0...|      8.51| 9.960841798515348|\n",
            "|[1.5,2.0,0.0,0.0,...|     19.08|11.261481769460167|\n",
            "|[1.5,2.0,0.0,1.0,...|     15.69|14.567895639989809|\n",
            "|[1.5,2.0,0.0,1.0,...|     12.03|14.079865504692853|\n",
            "|[1.5,2.0,1.0,0.0,...|     10.65|10.765377376324496|\n",
            "|[1.67,3.0,1.0,0.0...|     10.33|15.957164828672465|\n",
            "|[1.71,2.0,0.0,0.0...|     10.27|13.357226671319225|\n",
            "|[1.96,2.0,0.0,0.0...|     15.04|14.161762249128373|\n",
            "|[2.0,2.0,0.0,1.0,...|     22.67|16.420981863256582|\n",
            "+--------------------+----------+------------------+\n",
            "only showing top 20 rows\n",
            "\n"
          ]
        }
      ],
      "execution_count": null
    },
    {
      "cell_type": "code",
      "source": [
        "### PErformance Metrics\n",
        "pred_results.r2,pred_results.meanAbsoluteError,pred_results.meanSquaredError"
      ],
      "metadata": {
        "application/vnd.databricks.v1+cell": {
          "title": "",
          "showTitle": false,
          "inputWidgets": {},
          "nuid": "75e3e5b1-0bb4-4dbe-a1ca-08e5a31ee173"
        },
        "colab": {
          "base_uri": "https://localhost:8080/"
        },
        "id": "FpPdQTt_soax",
        "outputId": "8178d267-3244-42a6-fd6b-03ffbcc2628d"
      },
      "outputs": [
        {
          "output_type": "execute_result",
          "data": {
            "text/plain": [
              "(0.5840725454567579, 3.975118561705597, 35.047034705345595)"
            ]
          },
          "metadata": {},
          "execution_count": 23
        }
      ],
      "execution_count": null
    },
    {
      "cell_type": "code",
      "source": [],
      "metadata": {
        "id": "F2jHwxc2LF1K"
      },
      "execution_count": null,
      "outputs": []
    },
    {
      "cell_type": "markdown",
      "source": [
        "To Apply Generalized Linear Regression \n"
      ],
      "metadata": {
        "id": "oZgF33MXLIuK"
      }
    },
    {
      "cell_type": "code",
      "source": [
        "finalized_data=output.select(\"features\",\"total_bill\")"
      ],
      "metadata": {
        "id": "xXutKNtKLF4I"
      },
      "execution_count": null,
      "outputs": []
    },
    {
      "cell_type": "code",
      "source": [
        "finalized_data.show()"
      ],
      "metadata": {
        "colab": {
          "base_uri": "https://localhost:8080/"
        },
        "id": "GsCzgfQsLF7A",
        "outputId": "2593b8a3-830d-4035-aa72-ad7bf3ef26ab"
      },
      "execution_count": null,
      "outputs": [
        {
          "output_type": "stream",
          "name": "stdout",
          "text": [
            "+--------------------+----------+\n",
            "|            features|total_bill|\n",
            "+--------------------+----------+\n",
            "|[1.01,2.0,1.0,0.0...|     16.99|\n",
            "|[1.66,3.0,0.0,0.0...|     10.34|\n",
            "|[3.5,3.0,0.0,0.0,...|     21.01|\n",
            "|[3.31,2.0,0.0,0.0...|     23.68|\n",
            "|[3.61,4.0,1.0,0.0...|     24.59|\n",
            "|[4.71,4.0,0.0,0.0...|     25.29|\n",
            "|[2.0,2.0,0.0,0.0,...|      8.77|\n",
            "|[3.12,4.0,0.0,0.0...|     26.88|\n",
            "|[1.96,2.0,0.0,0.0...|     15.04|\n",
            "|[3.23,2.0,0.0,0.0...|     14.78|\n",
            "|[1.71,2.0,0.0,0.0...|     10.27|\n",
            "|[5.0,4.0,1.0,0.0,...|     35.26|\n",
            "|[1.57,2.0,0.0,0.0...|     15.42|\n",
            "|[3.0,4.0,0.0,0.0,...|     18.43|\n",
            "|[3.02,2.0,1.0,0.0...|     14.83|\n",
            "|[3.92,2.0,0.0,0.0...|     21.58|\n",
            "|[1.67,3.0,1.0,0.0...|     10.33|\n",
            "|[3.71,3.0,0.0,0.0...|     16.29|\n",
            "|[3.5,3.0,1.0,0.0,...|     16.97|\n",
            "|(6,[0,1],[3.35,3.0])|     20.65|\n",
            "+--------------------+----------+\n",
            "only showing top 20 rows\n",
            "\n"
          ]
        }
      ]
    },
    {
      "cell_type": "code",
      "source": [
        "glr = GeneralizedLinearRegression(labelCol=\"total_bill\",family=\"gaussian\", link=\"identity\", maxIter=10, regParam=0.3)"
      ],
      "metadata": {
        "id": "bsf4HMfBLF-G"
      },
      "execution_count": null,
      "outputs": []
    },
    {
      "cell_type": "code",
      "source": [
        "(train, test) = finalized_data.randomSplit([0.75, 0.25])"
      ],
      "metadata": {
        "id": "I52H25S_MW_h"
      },
      "execution_count": null,
      "outputs": []
    },
    {
      "cell_type": "code",
      "source": [
        "model = glr.fit(train)"
      ],
      "metadata": {
        "id": "Z2ZmkFZPMXDJ"
      },
      "execution_count": null,
      "outputs": []
    },
    {
      "cell_type": "code",
      "source": [
        "from pyspark.ml.evaluation import RegressionEvaluator\n",
        "tdata = model.transform(test)\n",
        "tdata.show(3)\n",
        "\n",
        "rmse = RegressionEvaluator(labelCol=\"total_bill\", predictionCol=\"prediction\", metricName=\"rmse\")\n",
        "rmse = rmse.evaluate(tdata)\n",
        "mae = RegressionEvaluator(labelCol=\"total_bill\", predictionCol=\"prediction\", metricName=\"mae\")\n",
        "mae = mae.evaluate(tdata)\n",
        "r2 = RegressionEvaluator(labelCol=\"total_bill\", predictionCol=\"prediction\", metricName=\"r2\")\n",
        "r2 = r2.evaluate(tdata)\n",
        "\n",
        "print(\"RMSE: \", rmse)\n",
        "print(\"MAE: \", mae)\n",
        "print(\"R-squared: \", r2)"
      ],
      "metadata": {
        "colab": {
          "base_uri": "https://localhost:8080/"
        },
        "id": "_EpCJURNMXGk",
        "outputId": "f33db426-beb3-40ff-a233-3342e1cee756"
      },
      "execution_count": null,
      "outputs": [
        {
          "output_type": "stream",
          "name": "stdout",
          "text": [
            "+--------------------+----------+------------------+\n",
            "|            features|total_bill|        prediction|\n",
            "+--------------------+----------+------------------+\n",
            "|(6,[0,1],[1.25,2.0])|     10.51| 11.89380191599285|\n",
            "|(6,[0,1],[1.47,2.0])|     10.77|12.635966878273848|\n",
            "| (6,[0,1],[2.0,2.0])|     12.69|14.423909741950794|\n",
            "+--------------------+----------+------------------+\n",
            "only showing top 3 rows\n",
            "\n",
            "RMSE:  7.802741442417535\n",
            "MAE:  5.51171479161189\n",
            "R-squared:  0.38542376890215957\n"
          ]
        }
      ]
    },
    {
      "cell_type": "code",
      "source": [
        "import matplotlib.pyplot as plt\n",
        "\n",
        "x_ax = range(0, tdata.count())\n",
        "y_pred=tdata.select(\"prediction\").collect()\n",
        "y_orig=tdata.select(\"total_bill\").collect()\n",
        " \n",
        "plt.plot(x_ax, y_orig, label=\"original\")\n",
        "plt.plot(x_ax, y_pred, label=\"predicted\")\n",
        "plt.title(\"Tips\")\n",
        "plt.xlabel('X-axis')\n",
        "plt.ylabel('Y-axis')\n",
        "plt.legend(loc='best',fancybox=True, shadow=True)\n",
        "plt.grid(True)\n",
        "plt.show() "
      ],
      "metadata": {
        "colab": {
          "base_uri": "https://localhost:8080/",
          "height": 295
        },
        "id": "B3cXUu5uN5dL",
        "outputId": "74d3bbd9-f2c6-4336-a932-078fd81513f7"
      },
      "execution_count": null,
      "outputs": [
        {
          "output_type": "display_data",
          "data": {
            "text/plain": [
              "<Figure size 432x288 with 1 Axes>"
            ],
            "image/png": "[encoded data removed]"
          },
          "metadata": {
            "needs_background": "light"
          }
        }
      ]
    },
    {
      "cell_type": "markdown",
      "source": [
        "*** check some CSV files "
      ],
      "metadata": {
        "id": "qAVhDs1aOKtS"
      }
    },
    {
      "cell_type": "code",
      "source": [
        "df_health =spark.read.csv('BenefitsCostSharing.csv',header=True,inferSchema=True)\n",
        "df_health.show()"
      ],
      "metadata": {
        "application/vnd.databricks.v1+cell": {
          "title": "",
          "showTitle": false,
          "inputWidgets": {},
          "nuid": "ce0398a7-7ebd-4f2c-b12e-2ef701925124"
        },
        "colab": {
          "base_uri": "https://localhost:8080/"
        },
        "id": "AlTFAND0soax",
        "outputId": "0c92f7af-004c-4656-f81b-f65b84c17041"
      },
      "outputs": [
        {
          "output_type": "stream",
          "name": "stdout",
          "text": [
            "+--------------------+------------+-------------+-------------+-------------+-------------+-------------+-------------+--------------------+----------+--------------------+-------------------+---------+-----+-----------------+-----------------+--------------+----------------+----------------+--------+---------+--------+--------------------+-----------+-----------------+---------------+---------+----------+-------------------+---------+----------+----------+\n",
            "|         BenefitName|BusinessYear|CoinsInnTier1|CoinsInnTier2|CoinsOutofNet|CopayInnTier1|CopayInnTier2|CopayOutofNet|        EHBVarReason|Exclusions|         Explanation|         ImportDate|IsCovered|IsEHB|IsExclFromInnMOOP|IsExclFromOonMOOP|IsStateMandate|IsSubjToDedTier1|IsSubjToDedTier2|IssuerId|IssuerId2|LimitQty|           LimitUnit|MinimumStay|           PlanId|QuantLimitOnSvc|RowNumber|SourceName|StandardComponentId|StateCode|StateCode2|VersionNum|\n",
            "+--------------------+------------+-------------+-------------+-------------+-------------+-------------+-------------+--------------------+----------+--------------------+-------------------+---------+-----+-----------------+-----------------+--------------+----------------+----------------+--------+---------+--------+--------------------+-----------+-----------------+---------------+---------+----------+-------------------+---------+----------+----------+\n",
            "|Routine Dental Se...|        2014|          20%|         null|          20%|    No Charge|         null|    No Charge|           Above EHB|      null|Combined annual b...|2014-03-19 07:06:49|  Covered| null|               No|               No|          null|              No|              No|   21989|    21989|  1000.0|    Dollars per Year|       null|21989AK0010001-00|            Yes|       68|      HIOS|     21989AK0010001|       AK|        AK|         6|\n",
            "|Dental Check-Up f...|        2014|          20%|         null|          20%|    No Charge|         null|    No Charge| Substantially Equal|      null|See policy for ad...|2014-03-19 07:06:49|  Covered|  Yes|               No|               No|          null|              No|              No|   21989|    21989|     1.0|Visit(s) per 6 Mo...|       null|21989AK0010001-00|            Yes|      104|      HIOS|     21989AK0010001|       AK|        AK|         6|\n",
            "|Basic Dental Care...|        2014|          40%|         null|          40%|    No Charge|         null|    No Charge| Substantially Equal|      null|See policy for ad...|2014-03-19 07:06:49|  Covered|  Yes|               No|               No|          null|             Yes|             Yes|   21989|    21989|    null|                null|       null|21989AK0010001-00|           null|      110|      HIOS|     21989AK0010001|       AK|        AK|         6|\n",
            "| Orthodontia - Child|        2014|          50%|         null|          50%|    No Charge|         null|    No Charge|Additional EHB Be...|      null|24 month waiting ...|2014-03-19 07:06:49|  Covered| null|               No|               No|          null|             Yes|             Yes|   21989|    21989|    null|                null|       null|21989AK0010001-00|           null|      111|      HIOS|     21989AK0010001|       AK|        AK|         6|\n",
            "|Major Dental Care...|        2014|          50%|         null|          50%|    No Charge|         null|    No Charge| Substantially Equal|      null|See policy for ad...|2014-03-19 07:06:49|  Covered|  Yes|               No|               No|          null|             Yes|             Yes|   21989|    21989|    null|                null|       null|21989AK0010001-00|           null|      112|      HIOS|     21989AK0010001|       AK|        AK|         6|\n",
            "|Basic Dental Care...|        2014|          40%|         null|          40%|    No Charge|         null|    No Charge|           Above EHB|      null|Combined annual b...|2014-03-19 07:06:49|  Covered| null|               No|               No|          null|             Yes|             Yes|   21989|    21989|  1000.0|    Dollars per Year|       null|21989AK0010001-00|            Yes|      113|      HIOS|     21989AK0010001|       AK|        AK|         6|\n",
            "| Orthodontia - Adult|        2014|         null|         null|         null|         null|         null|         null|                null|      null|                null|2014-03-19 07:06:49|     null| null|             null|             null|          null|            null|            null|   21989|    21989|    null|                null|       null|21989AK0010001-00|           null|      114|      HIOS|     21989AK0010001|       AK|        AK|         6|\n",
            "|Major Dental Care...|        2014|          50%|         null|          50%|    No Charge|         null|    No Charge|           Above EHB|      null|Combined annual b...|2014-03-19 07:06:49|  Covered| null|               No|               No|          null|             Yes|             Yes|   21989|    21989|  1000.0|    Dollars per Year|       null|21989AK0010001-00|            Yes|      115|      HIOS|     21989AK0010001|       AK|        AK|         6|\n",
            "|   Accidental Dental|        2014|         null|         null|         null|         null|         null|         null|                null|      null|                null|2014-03-19 07:06:49|     null| null|             null|             null|          null|            null|            null|   21989|    21989|    null|                null|       null|21989AK0010001-00|           null|      118|      HIOS|     21989AK0010001|       AK|        AK|         6|\n",
            "|Routine Dental Se...|        2014|          20%|         null|          20%|    No Charge|         null|    No Charge|           Above EHB|      null|Combined annual b...|2014-03-19 07:06:49|  Covered| null|               No|               No|          null|              No|              No|   21989|    21989|  1000.0|    Dollars per Year|       null|21989AK0010001-01|            Yes|       68|      HIOS|     21989AK0010001|       AK|        AK|         6|\n",
            "|Dental Check-Up f...|        2014|          20%|         null|          20%|    No Charge|         null|    No Charge| Substantially Equal|      null|See policy for ad...|2014-03-19 07:06:49|  Covered|  Yes|               No|               No|          null|              No|              No|   21989|    21989|     1.0|Visit(s) per 6 Mo...|       null|21989AK0010001-01|            Yes|      104|      HIOS|     21989AK0010001|       AK|        AK|         6|\n",
            "|Basic Dental Care...|        2014|          40%|         null|          40%|    No Charge|         null|    No Charge| Substantially Equal|      null|See policy for ad...|2014-03-19 07:06:49|  Covered|  Yes|               No|               No|          null|             Yes|             Yes|   21989|    21989|    null|                null|       null|21989AK0010001-01|           null|      110|      HIOS|     21989AK0010001|       AK|        AK|         6|\n",
            "| Orthodontia - Child|        2014|          50%|         null|          50%|    No Charge|         null|    No Charge|Additional EHB Be...|      null|24 month waiting ...|2014-03-19 07:06:49|  Covered| null|               No|               No|          null|             Yes|             Yes|   21989|    21989|    null|                null|       null|21989AK0010001-01|           null|      111|      HIOS|     21989AK0010001|       AK|        AK|         6|\n",
            "|Major Dental Care...|        2014|          50%|         null|          50%|    No Charge|         null|    No Charge| Substantially Equal|      null|See policy for ad...|2014-03-19 07:06:49|  Covered|  Yes|               No|               No|          null|             Yes|             Yes|   21989|    21989|    null|                null|       null|21989AK0010001-01|           null|      112|      HIOS|     21989AK0010001|       AK|        AK|         6|\n",
            "|Basic Dental Care...|        2014|          40%|         null|          40%|    No Charge|         null|    No Charge|           Above EHB|      null|Combined annual b...|2014-03-19 07:06:49|  Covered| null|               No|               No|          null|             Yes|             Yes|   21989|    21989|  1000.0|    Dollars per Year|       null|21989AK0010001-01|            Yes|      113|      HIOS|     21989AK0010001|       AK|        AK|         6|\n",
            "| Orthodontia - Adult|        2014|         null|         null|         null|         null|         null|         null|                null|      null|                null|2014-03-19 07:06:49|     null| null|             null|             null|          null|            null|            null|   21989|    21989|    null|                null|       null|21989AK0010001-01|           null|      114|      HIOS|     21989AK0010001|       AK|        AK|         6|\n",
            "|Major Dental Care...|        2014|          50%|         null|          50%|    No Charge|         null|    No Charge|           Above EHB|      null|Combined annual b...|2014-03-19 07:06:49|  Covered| null|               No|               No|          null|             Yes|             Yes|   21989|    21989|  1000.0|    Dollars per Year|       null|21989AK0010001-01|            Yes|      115|      HIOS|     21989AK0010001|       AK|        AK|         6|\n",
            "|   Accidental Dental|        2014|         null|         null|         null|         null|         null|         null|                null|      null|                null|2014-03-19 07:06:49|     null| null|             null|             null|          null|            null|            null|   21989|    21989|    null|                null|       null|21989AK0010001-01|           null|      118|      HIOS|     21989AK0010001|       AK|        AK|         6|\n",
            "|Routine Dental Se...|        2014|           0%|         null|           0%|    No Charge|         null|    No Charge|           Above EHB|      null|Combined annual b...|2014-03-19 07:06:49|  Covered| null|               No|               No|          null|              No|              No|   21989|    21989|  1000.0|    Dollars per Year|       null|21989AK0020001-00|            Yes|       68|      HIOS|     21989AK0020001|       AK|        AK|         6|\n",
            "|Dental Check-Up f...|        2014|           0%|         null|           0%|    No Charge|         null|    No Charge| Substantially Equal|      null|See policy for ad...|2014-03-19 07:06:49|  Covered|  Yes|               No|               No|          null|              No|              No|   21989|    21989|     1.0|Visit(s) per 6 Mo...|       null|21989AK0020001-00|            Yes|      104|      HIOS|     21989AK0020001|       AK|        AK|         6|\n",
            "+--------------------+------------+-------------+-------------+-------------+-------------+-------------+-------------+--------------------+----------+--------------------+-------------------+---------+-----+-----------------+-----------------+--------------+----------------+----------------+--------+---------+--------+--------------------+-----------+-----------------+---------------+---------+----------+-------------------+---------+----------+----------+\n",
            "only showing top 20 rows\n",
            "\n"
          ]
        }
      ],
      "execution_count": null
    },
    {
      "cell_type": "code",
      "source": [
        "df_health.printSchema()"
      ],
      "metadata": {
        "colab": {
          "base_uri": "https://localhost:8080/"
        },
        "id": "zOaLoojC47Rz",
        "outputId": "ab62a5ec-4093-4c4e-a854-0dc0738ad81c"
      },
      "execution_count": null,
      "outputs": [
        {
          "output_type": "stream",
          "name": "stdout",
          "text": [
            "root\n",
            " |-- BenefitName: string (nullable = true)\n",
            " |-- BusinessYear: integer (nullable = true)\n",
            " |-- CoinsInnTier1: string (nullable = true)\n",
            " |-- CoinsInnTier2: string (nullable = true)\n",
            " |-- CoinsOutofNet: string (nullable = true)\n",
            " |-- CopayInnTier1: string (nullable = true)\n",
            " |-- CopayInnTier2: string (nullable = true)\n",
            " |-- CopayOutofNet: string (nullable = true)\n",
            " |-- EHBVarReason: string (nullable = true)\n",
            " |-- Exclusions: string (nullable = true)\n",
            " |-- Explanation: string (nullable = true)\n",
            " |-- ImportDate: string (nullable = true)\n",
            " |-- IsCovered: string (nullable = true)\n",
            " |-- IsEHB: string (nullable = true)\n",
            " |-- IsExclFromInnMOOP: string (nullable = true)\n",
            " |-- IsExclFromOonMOOP: string (nullable = true)\n",
            " |-- IsStateMandate: string (nullable = true)\n",
            " |-- IsSubjToDedTier1: string (nullable = true)\n",
            " |-- IsSubjToDedTier2: string (nullable = true)\n",
            " |-- IssuerId: string (nullable = true)\n",
            " |-- IssuerId2: string (nullable = true)\n",
            " |-- LimitQty: double (nullable = true)\n",
            " |-- LimitUnit: string (nullable = true)\n",
            " |-- MinimumStay: double (nullable = true)\n",
            " |-- PlanId: string (nullable = true)\n",
            " |-- QuantLimitOnSvc: string (nullable = true)\n",
            " |-- RowNumber: string (nullable = true)\n",
            " |-- SourceName: string (nullable = true)\n",
            " |-- StandardComponentId: string (nullable = true)\n",
            " |-- StateCode: string (nullable = true)\n",
            " |-- StateCode2: string (nullable = true)\n",
            " |-- VersionNum: string (nullable = true)\n",
            "\n"
          ]
        }
      ]
    },
    {
      "cell_type": "code",
      "source": [
        "df_health.count()"
      ],
      "metadata": {
        "colab": {
          "base_uri": "https://localhost:8080/"
        },
        "id": "PYer504tBKW7",
        "outputId": "bcb93b7d-0bdb-44be-a05b-918fbf7cc3e3"
      },
      "execution_count": null,
      "outputs": [
        {
          "output_type": "execute_result",
          "data": {
            "text/plain": [
              "263211"
            ]
          },
          "metadata": {},
          "execution_count": 29
        }
      ]
    },
    {
      "cell_type": "code",
      "source": [
        "df_salary =spark.read.csv('Salaries.csv',header=True,inferSchema=True)\n",
        "df_salary.show()"
      ],
      "metadata": {
        "colab": {
          "base_uri": "https://localhost:8080/"
        },
        "id": "bhl3LkxGZt5d",
        "outputId": "b0e2df64-207e-43b2-bb26-78dab5611dd5"
      },
      "execution_count": null,
      "outputs": [
        {
          "output_type": "stream",
          "name": "stdout",
          "text": [
            "+----+------------------+--------------------+---------+-----------+---------+--------+---------+----------------+----+-----+-------------+------+\n",
            "|  Id|      EmployeeName|            JobTitle|  BasePay|OvertimePay| OtherPay|Benefits| TotalPay|TotalPayBenefits|Year|Notes|       Agency|Status|\n",
            "+----+------------------+--------------------+---------+-----------+---------+--------+---------+----------------+----+-----+-------------+------+\n",
            "| 1.0|    NATHANIEL FORD|GENERAL MANAGER-M...|167411.18|        0.0|400184.25|    null|567595.43|       567595.43|2011| null|San Francisco|  null|\n",
            "| 2.0|      GARY JIMENEZ|CAPTAIN III (POLI...|155966.02|  245131.88|137811.38|    null|538909.28|       538909.28|2011| null|San Francisco|  null|\n",
            "| 3.0|    ALBERT PARDINI|CAPTAIN III (POLI...|212739.13|  106088.18|  16452.6|    null|335279.91|       335279.91|2011| null|San Francisco|  null|\n",
            "| 4.0| CHRISTOPHER CHONG|WIRE ROPE CABLE M...|  77916.0|   56120.71| 198306.9|    null|332343.61|       332343.61|2011| null|San Francisco|  null|\n",
            "| 5.0|   PATRICK GARDNER|DEPUTY CHIEF OF D...| 134401.6|     9737.0|182234.59|    null|326373.19|       326373.19|2011| null|San Francisco|  null|\n",
            "| 6.0|    DAVID SULLIVAN|ASSISTANT DEPUTY ...| 118602.0|     8601.0|189082.74|    null|316285.74|       316285.74|2011| null|San Francisco|  null|\n",
            "| 7.0|         ALSON LEE|BATTALION CHIEF, ...| 92492.01|    89062.9|134426.14|    null|315981.05|       315981.05|2011| null|San Francisco|  null|\n",
            "| 8.0|     DAVID KUSHNER|DEPUTY DIRECTOR O...|256576.96|        0.0|  51322.5|    null|307899.46|       307899.46|2011| null|San Francisco|  null|\n",
            "| 9.0|    MICHAEL MORRIS|BATTALION CHIEF, ...|176932.64|   86362.68| 40132.23|    null|303427.55|       303427.55|2011| null|San Francisco|  null|\n",
            "|10.0|JOANNE HAYES-WHITE|CHIEF OF DEPARTME...| 285262.0|        0.0| 17115.73|    null|302377.73|       302377.73|2011| null|San Francisco|  null|\n",
            "|11.0|     ARTHUR KENNEY|ASSISTANT CHIEF O...|194999.39|   71344.88|  33149.9|    null|299494.17|       299494.17|2011| null|San Francisco|  null|\n",
            "|12.0|  PATRICIA JACKSON|CAPTAIN III (POLI...|  99722.0|   87082.62| 110804.3|    null|297608.92|       297608.92|2011| null|San Francisco|  null|\n",
            "|13.0| EDWARD HARRINGTON|EXECUTIVE CONTRAC...|294580.02|        0.0|      0.0|    null|294580.02|       294580.02|2011| null|San Francisco|  null|\n",
            "|14.0|       JOHN MARTIN|   DEPARTMENT HEAD V|271329.03|        0.0| 21342.59|    null|292671.62|       292671.62|2011| null|San Francisco|  null|\n",
            "|15.0|    DAVID FRANKLIN|BATTALION CHIEF, ...|174872.64|    74050.3| 37424.11|    null|286347.05|       286347.05|2011| null|San Francisco|  null|\n",
            "|16.0|   RICHARD CORRIEA|COMMANDER III, (P...|198778.01|    73478.2| 13957.65|    null|286213.86|       286213.86|2011| null|San Francisco|  null|\n",
            "|17.0|          AMY HART|   DEPARTMENT HEAD V|268604.57|        0.0| 16115.86|    null|284720.43|       284720.43|2011| null|San Francisco|  null|\n",
            "|18.0|    SEBASTIAN WONG|CAPTAIN, EMERGENC...|140546.87|  119397.26| 18625.08|    null|278569.21|       278569.21|2011| null|San Francisco|  null|\n",
            "|19.0|        MARTY ROSS|BATTALION CHIEF, ...|168692.63|   69626.12| 38115.47|    null|276434.22|       276434.22|2011| null|San Francisco|  null|\n",
            "|20.0|     ELLEN MOFFATT|ASSISTANT MEDICAL...|257510.59|     880.16|  16159.5|    null|274550.25|       274550.25|2011| null|San Francisco|  null|\n",
            "+----+------------------+--------------------+---------+-----------+---------+--------+---------+----------------+----+-----+-------------+------+\n",
            "only showing top 20 rows\n",
            "\n"
          ]
        }
      ]
    },
    {
      "cell_type": "code",
      "source": [
        "df_salary.count()"
      ],
      "metadata": {
        "colab": {
          "base_uri": "https://localhost:8080/"
        },
        "id": "JbgCsOV4Zt6t",
        "outputId": "034981f9-f363-4857-b58a-e8589d194128"
      },
      "execution_count": null,
      "outputs": [
        {
          "output_type": "execute_result",
          "data": {
            "text/plain": [
              "190178"
            ]
          },
          "metadata": {},
          "execution_count": 32
        }
      ]
    },
    {
      "cell_type": "code",
      "source": [
        "df_salary.printSchema()"
      ],
      "metadata": {
        "colab": {
          "base_uri": "https://localhost:8080/"
        },
        "id": "ge1tpf9hbQZE",
        "outputId": "0010a20f-860c-4431-dd9e-bfc242527227"
      },
      "execution_count": null,
      "outputs": [
        {
          "output_type": "stream",
          "name": "stdout",
          "text": [
            "root\n",
            " |-- Id: double (nullable = true)\n",
            " |-- EmployeeName: string (nullable = true)\n",
            " |-- JobTitle: string (nullable = true)\n",
            " |-- BasePay: string (nullable = true)\n",
            " |-- OvertimePay: string (nullable = true)\n",
            " |-- OtherPay: string (nullable = true)\n",
            " |-- Benefits: string (nullable = true)\n",
            " |-- TotalPay: string (nullable = true)\n",
            " |-- TotalPayBenefits: string (nullable = true)\n",
            " |-- Year: string (nullable = true)\n",
            " |-- Notes: string (nullable = true)\n",
            " |-- Agency: string (nullable = true)\n",
            " |-- Status: string (nullable = true)\n",
            "\n"
          ]
        }
      ]
    },
    {
      "cell_type": "code",
      "source": [
        "from pyspark.sql.types import IntegerType\n",
        "df_salary = df_salary.withColumn(\"BasePay\", df_salary[\"BasePay\"].cast(IntegerType()))\n",
        "df_salary = df_salary.withColumn(\"OvertimePay\", df_salary[\"OvertimePay\"].cast(IntegerType()))\n",
        "df_salary = df_salary.withColumn(\"OtherPay\", df_salary[\"OtherPay\"].cast(IntegerType()))\n",
        "df_salary = df_salary.withColumn(\"TotalPay\", df_salary[\"TotalPay\"].cast(IntegerType()))\n",
        "\n"
      ],
      "metadata": {
        "id": "GUtZKFTcbwul"
      },
      "execution_count": null,
      "outputs": []
    },
    {
      "cell_type": "code",
      "source": [
        "df_salary.printSchema()"
      ],
      "metadata": {
        "colab": {
          "base_uri": "https://localhost:8080/"
        },
        "id": "lmVHgMqHeMeU",
        "outputId": "cfdc0392-3f12-4a33-977d-311f75753874"
      },
      "execution_count": null,
      "outputs": [
        {
          "output_type": "stream",
          "name": "stdout",
          "text": [
            "root\n",
            " |-- Id: double (nullable = true)\n",
            " |-- EmployeeName: string (nullable = true)\n",
            " |-- JobTitle: string (nullable = true)\n",
            " |-- BasePay: integer (nullable = true)\n",
            " |-- OvertimePay: integer (nullable = true)\n",
            " |-- OtherPay: integer (nullable = true)\n",
            " |-- Benefits: string (nullable = true)\n",
            " |-- TotalPay: integer (nullable = true)\n",
            " |-- TotalPayBenefits: string (nullable = true)\n",
            " |-- Year: string (nullable = true)\n",
            " |-- Notes: string (nullable = true)\n",
            " |-- Agency: string (nullable = true)\n",
            " |-- Status: string (nullable = true)\n",
            "\n"
          ]
        }
      ]
    },
    {
      "cell_type": "code",
      "source": [
        "from pyspark.ml.feature import VectorAssembler\n",
        "featureassembler=VectorAssembler(inputCols=['BasePay','OvertimePay','OtherPay'],outputCol=\"Independent Features\")\n",
        "output=featureassembler.transform(df_salary)"
      ],
      "metadata": {
        "id": "lNn6QW8FZufM"
      },
      "execution_count": null,
      "outputs": []
    },
    {
      "cell_type": "code",
      "source": [
        "df_salary.show()"
      ],
      "metadata": {
        "colab": {
          "base_uri": "https://localhost:8080/"
        },
        "id": "mSmbjimfc-DV",
        "outputId": "37730917-ccf8-47e0-e270-00890088f21e"
      },
      "execution_count": null,
      "outputs": [
        {
          "output_type": "stream",
          "name": "stdout",
          "text": [
            "+----+------------------+--------------------+-------+-----------+--------+--------+--------+----------------+----+-----+-------------+------+\n",
            "|  Id|      EmployeeName|            JobTitle|BasePay|OvertimePay|OtherPay|Benefits|TotalPay|TotalPayBenefits|Year|Notes|       Agency|Status|\n",
            "+----+------------------+--------------------+-------+-----------+--------+--------+--------+----------------+----+-----+-------------+------+\n",
            "| 1.0|    NATHANIEL FORD|GENERAL MANAGER-M...| 167411|          0|  400184|    null|  567595|       567595.43|2011| null|San Francisco|  null|\n",
            "| 2.0|      GARY JIMENEZ|CAPTAIN III (POLI...| 155966|     245131|  137811|    null|  538909|       538909.28|2011| null|San Francisco|  null|\n",
            "| 3.0|    ALBERT PARDINI|CAPTAIN III (POLI...| 212739|     106088|   16452|    null|  335279|       335279.91|2011| null|San Francisco|  null|\n",
            "| 4.0| CHRISTOPHER CHONG|WIRE ROPE CABLE M...|  77916|      56120|  198306|    null|  332343|       332343.61|2011| null|San Francisco|  null|\n",
            "| 5.0|   PATRICK GARDNER|DEPUTY CHIEF OF D...| 134401|       9737|  182234|    null|  326373|       326373.19|2011| null|San Francisco|  null|\n",
            "| 6.0|    DAVID SULLIVAN|ASSISTANT DEPUTY ...| 118602|       8601|  189082|    null|  316285|       316285.74|2011| null|San Francisco|  null|\n",
            "| 7.0|         ALSON LEE|BATTALION CHIEF, ...|  92492|      89062|  134426|    null|  315981|       315981.05|2011| null|San Francisco|  null|\n",
            "| 8.0|     DAVID KUSHNER|DEPUTY DIRECTOR O...| 256576|          0|   51322|    null|  307899|       307899.46|2011| null|San Francisco|  null|\n",
            "| 9.0|    MICHAEL MORRIS|BATTALION CHIEF, ...| 176932|      86362|   40132|    null|  303427|       303427.55|2011| null|San Francisco|  null|\n",
            "|10.0|JOANNE HAYES-WHITE|CHIEF OF DEPARTME...| 285262|          0|   17115|    null|  302377|       302377.73|2011| null|San Francisco|  null|\n",
            "|11.0|     ARTHUR KENNEY|ASSISTANT CHIEF O...| 194999|      71344|   33149|    null|  299494|       299494.17|2011| null|San Francisco|  null|\n",
            "|12.0|  PATRICIA JACKSON|CAPTAIN III (POLI...|  99722|      87082|  110804|    null|  297608|       297608.92|2011| null|San Francisco|  null|\n",
            "|13.0| EDWARD HARRINGTON|EXECUTIVE CONTRAC...| 294580|          0|       0|    null|  294580|       294580.02|2011| null|San Francisco|  null|\n",
            "|14.0|       JOHN MARTIN|   DEPARTMENT HEAD V| 271329|          0|   21342|    null|  292671|       292671.62|2011| null|San Francisco|  null|\n",
            "|15.0|    DAVID FRANKLIN|BATTALION CHIEF, ...| 174872|      74050|   37424|    null|  286347|       286347.05|2011| null|San Francisco|  null|\n",
            "|16.0|   RICHARD CORRIEA|COMMANDER III, (P...| 198778|      73478|   13957|    null|  286213|       286213.86|2011| null|San Francisco|  null|\n",
            "|17.0|          AMY HART|   DEPARTMENT HEAD V| 268604|          0|   16115|    null|  284720|       284720.43|2011| null|San Francisco|  null|\n",
            "|18.0|    SEBASTIAN WONG|CAPTAIN, EMERGENC...| 140546|     119397|   18625|    null|  278569|       278569.21|2011| null|San Francisco|  null|\n",
            "|19.0|        MARTY ROSS|BATTALION CHIEF, ...| 168692|      69626|   38115|    null|  276434|       276434.22|2011| null|San Francisco|  null|\n",
            "|20.0|     ELLEN MOFFATT|ASSISTANT MEDICAL...| 257510|        880|   16159|    null|  274550|       274550.25|2011| null|San Francisco|  null|\n",
            "+----+------------------+--------------------+-------+-----------+--------+--------+--------+----------------+----+-----+-------------+------+\n",
            "only showing top 20 rows\n",
            "\n"
          ]
        }
      ]
    },
    {
      "cell_type": "code",
      "source": [
        "output.show()"
      ],
      "metadata": {
        "colab": {
          "base_uri": "https://localhost:8080/"
        },
        "id": "LF6wtGendFpl",
        "outputId": "82c65af5-9998-462f-e9b6-d5a1adc478f3"
      },
      "execution_count": null,
      "outputs": [
        {
          "output_type": "stream",
          "name": "stdout",
          "text": [
            "+----+------------------+--------------------+-------+-----------+--------+--------+--------+----------------+----+-----+-------------+------+--------------------+\n",
            "|  Id|      EmployeeName|            JobTitle|BasePay|OvertimePay|OtherPay|Benefits|TotalPay|TotalPayBenefits|Year|Notes|       Agency|Status|Independent Features|\n",
            "+----+------------------+--------------------+-------+-----------+--------+--------+--------+----------------+----+-----+-------------+------+--------------------+\n",
            "| 1.0|    NATHANIEL FORD|GENERAL MANAGER-M...| 167411|          0|  400184|    null|  567595|       567595.43|2011| null|San Francisco|  null|[167411.0,0.0,400...|\n",
            "| 2.0|      GARY JIMENEZ|CAPTAIN III (POLI...| 155966|     245131|  137811|    null|  538909|       538909.28|2011| null|San Francisco|  null|[155966.0,245131....|\n",
            "| 3.0|    ALBERT PARDINI|CAPTAIN III (POLI...| 212739|     106088|   16452|    null|  335279|       335279.91|2011| null|San Francisco|  null|[212739.0,106088....|\n",
            "| 4.0| CHRISTOPHER CHONG|WIRE ROPE CABLE M...|  77916|      56120|  198306|    null|  332343|       332343.61|2011| null|San Francisco|  null|[77916.0,56120.0,...|\n",
            "| 5.0|   PATRICK GARDNER|DEPUTY CHIEF OF D...| 134401|       9737|  182234|    null|  326373|       326373.19|2011| null|San Francisco|  null|[134401.0,9737.0,...|\n",
            "| 6.0|    DAVID SULLIVAN|ASSISTANT DEPUTY ...| 118602|       8601|  189082|    null|  316285|       316285.74|2011| null|San Francisco|  null|[118602.0,8601.0,...|\n",
            "| 7.0|         ALSON LEE|BATTALION CHIEF, ...|  92492|      89062|  134426|    null|  315981|       315981.05|2011| null|San Francisco|  null|[92492.0,89062.0,...|\n",
            "| 8.0|     DAVID KUSHNER|DEPUTY DIRECTOR O...| 256576|          0|   51322|    null|  307899|       307899.46|2011| null|San Francisco|  null|[256576.0,0.0,513...|\n",
            "| 9.0|    MICHAEL MORRIS|BATTALION CHIEF, ...| 176932|      86362|   40132|    null|  303427|       303427.55|2011| null|San Francisco|  null|[176932.0,86362.0...|\n",
            "|10.0|JOANNE HAYES-WHITE|CHIEF OF DEPARTME...| 285262|          0|   17115|    null|  302377|       302377.73|2011| null|San Francisco|  null|[285262.0,0.0,171...|\n",
            "|11.0|     ARTHUR KENNEY|ASSISTANT CHIEF O...| 194999|      71344|   33149|    null|  299494|       299494.17|2011| null|San Francisco|  null|[194999.0,71344.0...|\n",
            "|12.0|  PATRICIA JACKSON|CAPTAIN III (POLI...|  99722|      87082|  110804|    null|  297608|       297608.92|2011| null|San Francisco|  null|[99722.0,87082.0,...|\n",
            "|13.0| EDWARD HARRINGTON|EXECUTIVE CONTRAC...| 294580|          0|       0|    null|  294580|       294580.02|2011| null|San Francisco|  null|  [294580.0,0.0,0.0]|\n",
            "|14.0|       JOHN MARTIN|   DEPARTMENT HEAD V| 271329|          0|   21342|    null|  292671|       292671.62|2011| null|San Francisco|  null|[271329.0,0.0,213...|\n",
            "|15.0|    DAVID FRANKLIN|BATTALION CHIEF, ...| 174872|      74050|   37424|    null|  286347|       286347.05|2011| null|San Francisco|  null|[174872.0,74050.0...|\n",
            "|16.0|   RICHARD CORRIEA|COMMANDER III, (P...| 198778|      73478|   13957|    null|  286213|       286213.86|2011| null|San Francisco|  null|[198778.0,73478.0...|\n",
            "|17.0|          AMY HART|   DEPARTMENT HEAD V| 268604|          0|   16115|    null|  284720|       284720.43|2011| null|San Francisco|  null|[268604.0,0.0,161...|\n",
            "|18.0|    SEBASTIAN WONG|CAPTAIN, EMERGENC...| 140546|     119397|   18625|    null|  278569|       278569.21|2011| null|San Francisco|  null|[140546.0,119397....|\n",
            "|19.0|        MARTY ROSS|BATTALION CHIEF, ...| 168692|      69626|   38115|    null|  276434|       276434.22|2011| null|San Francisco|  null|[168692.0,69626.0...|\n",
            "|20.0|     ELLEN MOFFATT|ASSISTANT MEDICAL...| 257510|        880|   16159|    null|  274550|       274550.25|2011| null|San Francisco|  null|[257510.0,880.0,1...|\n",
            "+----+------------------+--------------------+-------+-----------+--------+--------+--------+----------------+----+-----+-------------+------+--------------------+\n",
            "only showing top 20 rows\n",
            "\n"
          ]
        }
      ]
    },
    {
      "cell_type": "code",
      "source": [
        "output.select('Independent Features').show()"
      ],
      "metadata": {
        "colab": {
          "base_uri": "https://localhost:8080/"
        },
        "id": "VRe0pNqlZuib",
        "outputId": "6c9cd2e7-781c-48e0-b86f-7eaf6fd14ed2"
      },
      "execution_count": null,
      "outputs": [
        {
          "output_type": "stream",
          "name": "stdout",
          "text": [
            "+--------------------+\n",
            "|Independent Features|\n",
            "+--------------------+\n",
            "|[167411.0,0.0,400...|\n",
            "|[155966.0,245131....|\n",
            "|[212739.0,106088....|\n",
            "|[77916.0,56120.0,...|\n",
            "|[134401.0,9737.0,...|\n",
            "|[118602.0,8601.0,...|\n",
            "|[92492.0,89062.0,...|\n",
            "|[256576.0,0.0,513...|\n",
            "|[176932.0,86362.0...|\n",
            "|[285262.0,0.0,171...|\n",
            "|[194999.0,71344.0...|\n",
            "|[99722.0,87082.0,...|\n",
            "|  [294580.0,0.0,0.0]|\n",
            "|[271329.0,0.0,213...|\n",
            "|[174872.0,74050.0...|\n",
            "|[198778.0,73478.0...|\n",
            "|[268604.0,0.0,161...|\n",
            "|[140546.0,119397....|\n",
            "|[168692.0,69626.0...|\n",
            "|[257510.0,880.0,1...|\n",
            "+--------------------+\n",
            "only showing top 20 rows\n",
            "\n"
          ]
        }
      ]
    },
    {
      "cell_type": "code",
      "source": [
        "finalized_data=output.select(\"Independent Features\",\"TotalPay\")"
      ],
      "metadata": {
        "id": "fAOsM1DgZumk"
      },
      "execution_count": null,
      "outputs": []
    },
    {
      "cell_type": "code",
      "source": [
        "finalized_data.show()"
      ],
      "metadata": {
        "colab": {
          "base_uri": "https://localhost:8080/"
        },
        "id": "5_OzTkoxeAgG",
        "outputId": "760c45c5-ddf3-4cf1-ae81-1ff01b170f4e"
      },
      "execution_count": null,
      "outputs": [
        {
          "output_type": "stream",
          "name": "stdout",
          "text": [
            "+--------------------+--------+\n",
            "|Independent Features|TotalPay|\n",
            "+--------------------+--------+\n",
            "|[167411.0,0.0,400...|  567595|\n",
            "|[155966.0,245131....|  538909|\n",
            "|[212739.0,106088....|  335279|\n",
            "|[77916.0,56120.0,...|  332343|\n",
            "|[134401.0,9737.0,...|  326373|\n",
            "|[118602.0,8601.0,...|  316285|\n",
            "|[92492.0,89062.0,...|  315981|\n",
            "|[256576.0,0.0,513...|  307899|\n",
            "|[176932.0,86362.0...|  303427|\n",
            "|[285262.0,0.0,171...|  302377|\n",
            "|[194999.0,71344.0...|  299494|\n",
            "|[99722.0,87082.0,...|  297608|\n",
            "|  [294580.0,0.0,0.0]|  294580|\n",
            "|[271329.0,0.0,213...|  292671|\n",
            "|[174872.0,74050.0...|  286347|\n",
            "|[198778.0,73478.0...|  286213|\n",
            "|[268604.0,0.0,161...|  284720|\n",
            "|[140546.0,119397....|  278569|\n",
            "|[168692.0,69626.0...|  276434|\n",
            "|[257510.0,880.0,1...|  274550|\n",
            "+--------------------+--------+\n",
            "only showing top 20 rows\n",
            "\n"
          ]
        }
      ]
    },
    {
      "cell_type": "code",
      "source": [
        "finalized_data.count()"
      ],
      "metadata": {
        "colab": {
          "base_uri": "https://localhost:8080/"
        },
        "id": "xoMK058fegEc",
        "outputId": "e91dc29b-39c6-4622-dab4-2718591f705e"
      },
      "execution_count": null,
      "outputs": [
        {
          "output_type": "execute_result",
          "data": {
            "text/plain": [
              "190178"
            ]
          },
          "metadata": {},
          "execution_count": 44
        }
      ]
    },
    {
      "cell_type": "code",
      "source": [
        "finalized_data=finalized_data.na.drop(how=\"any\")"
      ],
      "metadata": {
        "id": "QQu2HfKnfHgF"
      },
      "execution_count": null,
      "outputs": []
    },
    {
      "cell_type": "markdown",
      "source": [
        ":******************************************************************************"
      ],
      "metadata": {
        "id": "2sEKGcFjOfzR"
      }
    },
    {
      "cell_type": "markdown",
      "source": [],
      "metadata": {
        "id": "vWPUTrm3PCIk"
      }
    },
    {
      "cell_type": "markdown",
      "source": [
        "Data analyses of BitstampUSD csv data file using the following two ML methods:\n",
        "1. Linear Regression\n",
        "2. Generalized Linear Regression"
      ],
      "metadata": {
        "id": "7W7aDBBJOgHw"
      }
    },
    {
      "cell_type": "code",
      "source": [
        "df_bitcoin =spark.read.csv('bitstampUSD_1-min_data_2012-01-01_to_2021-03-31.csv',header=True,inferSchema=True)\n",
        "df_bitcoin.show()"
      ],
      "metadata": {
        "colab": {
          "base_uri": "https://localhost:8080/"
        },
        "id": "mp7ImhyOdTEk",
        "outputId": "2d646476-66cb-442d-f9d8-350b585c8ca3"
      },
      "execution_count": null,
      "outputs": [
        {
          "output_type": "stream",
          "name": "stdout",
          "text": [
            "+----------+----+----+----+-----+------------+-----------------+--------------+\n",
            "| Timestamp|Open|High| Low|Close|Volume_(BTC)|Volume_(Currency)|Weighted_Price|\n",
            "+----------+----+----+----+-----+------------+-----------------+--------------+\n",
            "|1325317920|4.39|4.39|4.39| 4.39|  0.45558087|     2.0000000193|          4.39|\n",
            "|1325317980| NaN| NaN| NaN|  NaN|         NaN|              NaN|           NaN|\n",
            "|1325318040| NaN| NaN| NaN|  NaN|         NaN|              NaN|           NaN|\n",
            "|1325318100| NaN| NaN| NaN|  NaN|         NaN|              NaN|           NaN|\n",
            "|1325318160| NaN| NaN| NaN|  NaN|         NaN|              NaN|           NaN|\n",
            "|1325318220| NaN| NaN| NaN|  NaN|         NaN|              NaN|           NaN|\n",
            "|1325318280| NaN| NaN| NaN|  NaN|         NaN|              NaN|           NaN|\n",
            "|1325318340| NaN| NaN| NaN|  NaN|         NaN|              NaN|           NaN|\n",
            "|1325318400| NaN| NaN| NaN|  NaN|         NaN|              NaN|           NaN|\n",
            "|1325318460| NaN| NaN| NaN|  NaN|         NaN|              NaN|           NaN|\n",
            "|1325318520| NaN| NaN| NaN|  NaN|         NaN|              NaN|           NaN|\n",
            "|1325318580| NaN| NaN| NaN|  NaN|         NaN|              NaN|           NaN|\n",
            "|1325318640| NaN| NaN| NaN|  NaN|         NaN|              NaN|           NaN|\n",
            "|1325318700| NaN| NaN| NaN|  NaN|         NaN|              NaN|           NaN|\n",
            "|1325318760| NaN| NaN| NaN|  NaN|         NaN|              NaN|           NaN|\n",
            "|1325318820| NaN| NaN| NaN|  NaN|         NaN|              NaN|           NaN|\n",
            "|1325318880| NaN| NaN| NaN|  NaN|         NaN|              NaN|           NaN|\n",
            "|1325318940| NaN| NaN| NaN|  NaN|         NaN|              NaN|           NaN|\n",
            "|1325319000| NaN| NaN| NaN|  NaN|         NaN|              NaN|           NaN|\n",
            "|1325319060| NaN| NaN| NaN|  NaN|         NaN|              NaN|           NaN|\n",
            "+----------+----+----+----+-----+------------+-----------------+--------------+\n",
            "only showing top 20 rows\n",
            "\n"
          ]
        }
      ]
    },
    {
      "cell_type": "code",
      "source": [
        "df_bitcoin=df_bitcoin.na.drop(how=\"any\")"
      ],
      "metadata": {
        "id": "9IXpi8wedTQb"
      },
      "execution_count": null,
      "outputs": []
    },
    {
      "cell_type": "code",
      "source": [
        "df_bitcoin.show()"
      ],
      "metadata": {
        "colab": {
          "base_uri": "https://localhost:8080/"
        },
        "id": "sucJMabynHQu",
        "outputId": "69a88787-7555-4385-c0d7-e527f33d5f7d"
      },
      "execution_count": null,
      "outputs": [
        {
          "output_type": "stream",
          "name": "stdout",
          "text": [
            "+----------+----+----+----+-----+------------+-----------------+--------------+\n",
            "| Timestamp|Open|High| Low|Close|Volume_(BTC)|Volume_(Currency)|Weighted_Price|\n",
            "+----------+----+----+----+-----+------------+-----------------+--------------+\n",
            "|1325317920|4.39|4.39|4.39| 4.39|  0.45558087|     2.0000000193|          4.39|\n",
            "|1325346600|4.39|4.39|4.39| 4.39|        48.0|           210.72|          4.39|\n",
            "|1325350740| 4.5|4.57| 4.5| 4.57| 37.86229723|     171.38033753|  4.5264114983|\n",
            "|1325350800|4.58|4.58|4.58| 4.58|         9.0|            41.22|          4.58|\n",
            "|1325391360|4.58|4.58|4.58| 4.58|       1.502|          6.87916|          4.58|\n",
            "|1325431680|4.84|4.84|4.84| 4.84|        10.0|             48.4|          4.84|\n",
            "|1325457900| 5.0| 5.0| 5.0|  5.0|        10.1|             50.5|           5.0|\n",
            "|1325534640| 5.0| 5.0| 5.0|  5.0|      19.048|            95.24|           5.0|\n",
            "|1325591100|5.32|5.32|5.32| 5.32|  2.41917293|     12.869999988|          5.32|\n",
            "|1325600520|5.14|5.14|5.14| 5.14|        0.68|           3.4952|          5.14|\n",
            "|1325602440|5.26|5.26|5.26| 5.26| 29.31939163|     154.21999997|          5.26|\n",
            "|1325604720|5.29|5.29|5.29| 5.29| 29.30245747|     155.01000002|          5.29|\n",
            "|1325610600|5.29|5.29|5.29| 5.29| 11.28544423|     59.699999977|          5.29|\n",
            "|1325610840|5.14|5.14|5.14| 5.14|        0.02|           0.1028|          5.14|\n",
            "|1325611560|5.29|5.29|5.29| 5.29|        11.0|            58.19|          5.29|\n",
            "|1325611620|5.29|5.29|5.29| 5.29|  4.01081466|     21.217209551|          5.29|\n",
            "|1325650620|4.93|4.93|4.93| 4.93|        2.32|          11.4376|          4.93|\n",
            "|1325653500|4.93|4.93|4.93| 4.93|        9.68|          47.7224|          4.93|\n",
            "|1325680860|5.19|5.19|5.19| 5.19|   2.6416185|     13.710000015|          5.19|\n",
            "|1325681820|5.19|5.19|5.19| 5.19|  8.72447013|     45.279999975|          5.19|\n",
            "+----------+----+----+----+-----+------------+-----------------+--------------+\n",
            "only showing top 20 rows\n",
            "\n"
          ]
        }
      ]
    },
    {
      "cell_type": "code",
      "source": [
        "df_bitcoin.count()"
      ],
      "metadata": {
        "colab": {
          "base_uri": "https://localhost:8080/"
        },
        "id": "vvHydv49nNU1",
        "outputId": "c4c54482-3451-49ea-8b17-159338057a45"
      },
      "execution_count": null,
      "outputs": [
        {
          "output_type": "execute_result",
          "data": {
            "text/plain": [
              "3613769"
            ]
          },
          "metadata": {},
          "execution_count": 51
        }
      ]
    },
    {
      "cell_type": "code",
      "source": [
        "df_bitcoin.printSchema()"
      ],
      "metadata": {
        "colab": {
          "base_uri": "https://localhost:8080/"
        },
        "id": "FJgt_cgunYlW",
        "outputId": "d0a5f51b-e016-4c7c-8235-9672bf6e9f03"
      },
      "execution_count": null,
      "outputs": [
        {
          "output_type": "stream",
          "name": "stdout",
          "text": [
            "root\n",
            " |-- Timestamp: integer (nullable = true)\n",
            " |-- Open: double (nullable = true)\n",
            " |-- High: double (nullable = true)\n",
            " |-- Low: double (nullable = true)\n",
            " |-- Close: double (nullable = true)\n",
            " |-- Volume_(BTC): double (nullable = true)\n",
            " |-- Volume_(Currency): double (nullable = true)\n",
            " |-- Weighted_Price: double (nullable = true)\n",
            "\n"
          ]
        }
      ]
    },
    {
      "cell_type": "code",
      "source": [
        "from pyspark.ml.feature import VectorAssembler\n",
        "featureassembler=VectorAssembler(inputCols=['Open','High', 'Low','Close','Volume_(BTC)','Volume_(Currency)'],outputCol=\"Independent Features\")\n",
        "output=featureassembler.transform(df_bitcoin)"
      ],
      "metadata": {
        "id": "NM5E8fKhoYCW"
      },
      "execution_count": null,
      "outputs": []
    },
    {
      "cell_type": "code",
      "source": [
        "finalized_data=output.select(\"Independent Features\",\"Weighted_Price\")"
      ],
      "metadata": {
        "id": "wD2692KCoYFf"
      },
      "execution_count": null,
      "outputs": []
    },
    {
      "cell_type": "code",
      "source": [
        "finalized_data.show()"
      ],
      "metadata": {
        "colab": {
          "base_uri": "https://localhost:8080/"
        },
        "id": "0ZDvJ5qBoYIN",
        "outputId": "8e67c517-28f8-4a52-c0d6-b573b62620ad"
      },
      "execution_count": null,
      "outputs": [
        {
          "output_type": "stream",
          "name": "stdout",
          "text": [
            "+--------------------+--------------+\n",
            "|Independent Features|Weighted_Price|\n",
            "+--------------------+--------------+\n",
            "|[4.39,4.39,4.39,4...|          4.39|\n",
            "|[4.39,4.39,4.39,4...|          4.39|\n",
            "|[4.5,4.57,4.5,4.5...|  4.5264114983|\n",
            "|[4.58,4.58,4.58,4...|          4.58|\n",
            "|[4.58,4.58,4.58,4...|          4.58|\n",
            "|[4.84,4.84,4.84,4...|          4.84|\n",
            "|[5.0,5.0,5.0,5.0,...|           5.0|\n",
            "|[5.0,5.0,5.0,5.0,...|           5.0|\n",
            "|[5.32,5.32,5.32,5...|          5.32|\n",
            "|[5.14,5.14,5.14,5...|          5.14|\n",
            "|[5.26,5.26,5.26,5...|          5.26|\n",
            "|[5.29,5.29,5.29,5...|          5.29|\n",
            "|[5.29,5.29,5.29,5...|          5.29|\n",
            "|[5.14,5.14,5.14,5...|          5.14|\n",
            "|[5.29,5.29,5.29,5...|          5.29|\n",
            "|[5.29,5.29,5.29,5...|          5.29|\n",
            "|[4.93,4.93,4.93,4...|          4.93|\n",
            "|[4.93,4.93,4.93,4...|          4.93|\n",
            "|[5.19,5.19,5.19,5...|          5.19|\n",
            "|[5.19,5.19,5.19,5...|          5.19|\n",
            "+--------------------+--------------+\n",
            "only showing top 20 rows\n",
            "\n"
          ]
        }
      ]
    },
    {
      "cell_type": "code",
      "source": [
        "from pyspark.ml.regression import LinearRegression\n",
        "##train test split\n",
        "train_data,test_data=finalized_data.randomSplit([0.75,0.25])\n",
        "regressor=LinearRegression(featuresCol='Independent Features', labelCol='Weighted_Price')\n",
        "regressor=regressor.fit(train_data)"
      ],
      "metadata": {
        "id": "-wWSCI1KoYKt"
      },
      "execution_count": null,
      "outputs": []
    },
    {
      "cell_type": "code",
      "source": [
        "pred_results=regressor.evaluate(test_data)"
      ],
      "metadata": {
        "id": "FjUJH-mkoYN1"
      },
      "execution_count": null,
      "outputs": []
    },
    {
      "cell_type": "code",
      "source": [
        "pred_results.predictions.show()"
      ],
      "metadata": {
        "colab": {
          "base_uri": "https://localhost:8080/"
        },
        "id": "eNxQ9a0XoYQm",
        "outputId": "63302b7c-40c3-4f2e-f004-5422db5284bb"
      },
      "execution_count": null,
      "outputs": [
        {
          "output_type": "stream",
          "name": "stdout",
          "text": [
            "+--------------------+--------------+------------------+\n",
            "|Independent Features|Weighted_Price|        prediction|\n",
            "+--------------------+--------------+------------------+\n",
            "|[4.14,4.14,4.14,4...|          4.14|4.2575178044660404|\n",
            "|[4.23,4.23,4.23,4...|          4.23| 4.346835248146146|\n",
            "|[4.3,4.3,4.28,4.2...|        4.2875| 4.412638678340919|\n",
            "|[4.3,4.3,4.3,4.3,...|           4.3| 4.369528159820228|\n",
            "|[4.38,4.38,4.38,4...|          4.38| 4.460334671871512|\n",
            "|[4.4,4.4,4.4,4.4,...|           4.4|  4.50839916390177|\n",
            "|[4.45,4.45,4.45,4...|          4.45| 4.574501626373279|\n",
            "|[4.45,4.45,4.45,4...|          4.45| 4.566834930571646|\n",
            "|[4.45,4.45,4.45,4...|          4.45|4.5585645113708235|\n",
            "|[4.47,4.47,4.47,4...|          4.47| 4.585573062137789|\n",
            "|[4.49,4.49,4.49,4...|          4.49|  4.61415325197999|\n",
            "|[4.49,4.49,4.49,4...|          4.49| 4.606834872830828|\n",
            "|[4.5,4.65,4.5,4.6...|  4.5341072944| 4.627928156265022|\n",
            "|[4.51,4.51,4.51,4...|          4.51| 4.634675188803402|\n",
            "|[4.52,4.52,4.52,4...|          4.52|  4.64049195483701|\n",
            "|[4.52,4.52,4.52,4...|          4.52| 4.636834829525213|\n",
            "|[4.53,4.53,4.53,4...|          4.53| 4.651582025571911|\n",
            "|[4.53,4.53,4.53,4...|          4.53| 4.649266313141715|\n",
            "|[4.54,4.54,4.54,4...|          4.54|   4.6649397919966|\n",
            "|[4.55,4.55,4.55,4...|          4.55|4.6502939919789785|\n",
            "+--------------------+--------------+------------------+\n",
            "only showing top 20 rows\n",
            "\n"
          ]
        }
      ]
    },
    {
      "cell_type": "code",
      "source": [
        "### PErformance Metrics\n",
        "pred_results.r2,pred_results.meanAbsoluteError,pred_results.meanSquaredError"
      ],
      "metadata": {
        "colab": {
          "base_uri": "https://localhost:8080/"
        },
        "id": "-UASzGX2oYT9",
        "outputId": "e74c6cc9-9a2e-4ce5-967f-79634453cd95"
      },
      "execution_count": null,
      "outputs": [
        {
          "output_type": "execute_result",
          "data": {
            "text/plain": [
              "(0.9999998056829986, 1.5614665206197333, 15.76613153552983)"
            ]
          },
          "metadata": {},
          "execution_count": 59
        }
      ]
    },
    {
      "cell_type": "markdown",
      "source": [
        "The following codes try to Generalized Linear Regression for data analyses"
      ],
      "metadata": {
        "id": "I4SHflqsCwq4"
      }
    },
    {
      "cell_type": "code",
      "source": [
        "from pyspark.ml.regression import GeneralizedLinearRegression\n",
        "\n",
        "# Load training data\n",
        "dataset = spark.read.csv('bitstampUSD_1-min_data_2012-01-01_to_2021-03-31.csv',header=True,inferSchema=True)\n",
        "dataset=dataset.na.drop(how=\"any\")\n",
        "\n"
      ],
      "metadata": {
        "id": "q3ZbB7uDs7U9"
      },
      "execution_count": null,
      "outputs": []
    },
    {
      "cell_type": "code",
      "source": [
        "dataset.show()"
      ],
      "metadata": {
        "colab": {
          "base_uri": "https://localhost:8080/"
        },
        "id": "u-x46Jr9ugtv",
        "outputId": "6d594000-7b3e-41f4-cd0c-fbc8e6e5986e"
      },
      "execution_count": null,
      "outputs": [
        {
          "output_type": "stream",
          "name": "stdout",
          "text": [
            "+----------+----+----+----+-----+------------+-----------------+--------------+\n",
            "| Timestamp|Open|High| Low|Close|Volume_(BTC)|Volume_(Currency)|Weighted_Price|\n",
            "+----------+----+----+----+-----+------------+-----------------+--------------+\n",
            "|1325317920|4.39|4.39|4.39| 4.39|  0.45558087|     2.0000000193|          4.39|\n",
            "|1325346600|4.39|4.39|4.39| 4.39|        48.0|           210.72|          4.39|\n",
            "|1325350740| 4.5|4.57| 4.5| 4.57| 37.86229723|     171.38033753|  4.5264114983|\n",
            "|1325350800|4.58|4.58|4.58| 4.58|         9.0|            41.22|          4.58|\n",
            "|1325391360|4.58|4.58|4.58| 4.58|       1.502|          6.87916|          4.58|\n",
            "|1325431680|4.84|4.84|4.84| 4.84|        10.0|             48.4|          4.84|\n",
            "|1325457900| 5.0| 5.0| 5.0|  5.0|        10.1|             50.5|           5.0|\n",
            "|1325534640| 5.0| 5.0| 5.0|  5.0|      19.048|            95.24|           5.0|\n",
            "|1325591100|5.32|5.32|5.32| 5.32|  2.41917293|     12.869999988|          5.32|\n",
            "|1325600520|5.14|5.14|5.14| 5.14|        0.68|           3.4952|          5.14|\n",
            "|1325602440|5.26|5.26|5.26| 5.26| 29.31939163|     154.21999997|          5.26|\n",
            "|1325604720|5.29|5.29|5.29| 5.29| 29.30245747|     155.01000002|          5.29|\n",
            "|1325610600|5.29|5.29|5.29| 5.29| 11.28544423|     59.699999977|          5.29|\n",
            "|1325610840|5.14|5.14|5.14| 5.14|        0.02|           0.1028|          5.14|\n",
            "|1325611560|5.29|5.29|5.29| 5.29|        11.0|            58.19|          5.29|\n",
            "|1325611620|5.29|5.29|5.29| 5.29|  4.01081466|     21.217209551|          5.29|\n",
            "|1325650620|4.93|4.93|4.93| 4.93|        2.32|          11.4376|          4.93|\n",
            "|1325653500|4.93|4.93|4.93| 4.93|        9.68|          47.7224|          4.93|\n",
            "|1325680860|5.19|5.19|5.19| 5.19|   2.6416185|     13.710000015|          5.19|\n",
            "|1325681820|5.19|5.19|5.19| 5.19|  8.72447013|     45.279999975|          5.19|\n",
            "+----------+----+----+----+-----+------------+-----------------+--------------+\n",
            "only showing top 20 rows\n",
            "\n"
          ]
        }
      ]
    },
    {
      "cell_type": "code",
      "source": [
        "from pyspark.ml.feature import VectorAssembler\n",
        "featureassembler=VectorAssembler(inputCols=['Open','High', 'Low','Close','Volume_(BTC)','Volume_(Currency)'],outputCol=\"Independent Features\")\n",
        "output=featureassembler.transform(dataset)\n",
        "\n",
        "\n",
        "featureassembler=VectorAssembler(inputCols=['Independent Features'],outputCol='features')\n",
        "output=featureassembler.transform(output)\n",
        "\n",
        "finalized_data=output.select(\"features\",\"Weighted_Price\")\n",
        "\n",
        "\n"
      ],
      "metadata": {
        "id": "ksaTs7Z7s7Xs"
      },
      "execution_count": null,
      "outputs": []
    },
    {
      "cell_type": "code",
      "source": [
        "finalized_data.show()"
      ],
      "metadata": {
        "colab": {
          "base_uri": "https://localhost:8080/"
        },
        "id": "k3yuFcmDAGaw",
        "outputId": "7906af33-7b88-4e39-d424-702d45b34441"
      },
      "execution_count": null,
      "outputs": [
        {
          "output_type": "stream",
          "name": "stdout",
          "text": [
            "+--------------------+--------------+\n",
            "|            features|Weighted_Price|\n",
            "+--------------------+--------------+\n",
            "|[4.39,4.39,4.39,4...|          4.39|\n",
            "|[4.39,4.39,4.39,4...|          4.39|\n",
            "|[4.5,4.57,4.5,4.5...|  4.5264114983|\n",
            "|[4.58,4.58,4.58,4...|          4.58|\n",
            "|[4.58,4.58,4.58,4...|          4.58|\n",
            "|[4.84,4.84,4.84,4...|          4.84|\n",
            "|[5.0,5.0,5.0,5.0,...|           5.0|\n",
            "|[5.0,5.0,5.0,5.0,...|           5.0|\n",
            "|[5.32,5.32,5.32,5...|          5.32|\n",
            "|[5.14,5.14,5.14,5...|          5.14|\n",
            "|[5.26,5.26,5.26,5...|          5.26|\n",
            "|[5.29,5.29,5.29,5...|          5.29|\n",
            "|[5.29,5.29,5.29,5...|          5.29|\n",
            "|[5.14,5.14,5.14,5...|          5.14|\n",
            "|[5.29,5.29,5.29,5...|          5.29|\n",
            "|[5.29,5.29,5.29,5...|          5.29|\n",
            "|[4.93,4.93,4.93,4...|          4.93|\n",
            "|[4.93,4.93,4.93,4...|          4.93|\n",
            "|[5.19,5.19,5.19,5...|          5.19|\n",
            "|[5.19,5.19,5.19,5...|          5.19|\n",
            "+--------------------+--------------+\n",
            "only showing top 20 rows\n",
            "\n"
          ]
        }
      ]
    },
    {
      "cell_type": "code",
      "source": [
        "glr = GeneralizedLinearRegression(labelCol=\"Weighted_Price\",family=\"gaussian\", link=\"identity\", maxIter=10, regParam=0.3)"
      ],
      "metadata": {
        "id": "esCXLpRs_R5g"
      },
      "execution_count": null,
      "outputs": []
    },
    {
      "cell_type": "code",
      "source": [
        "(train, test) = finalized_data.randomSplit([0.8, 0.2])"
      ],
      "metadata": {
        "id": "6rhO7dEJ_pQJ"
      },
      "execution_count": null,
      "outputs": []
    },
    {
      "cell_type": "code",
      "source": [
        "model = glr.fit(train)"
      ],
      "metadata": {
        "id": "Fash6ZvD_gog"
      },
      "execution_count": null,
      "outputs": []
    },
    {
      "cell_type": "code",
      "source": [
        "#glr=GeneralizedLinearRegression(labelCol=\"Weighted_Price\",family=\"poisson\",maxIter=10,regParam=0.3)\n",
        "\n",
        "#model = glr.fit(train)\n",
        " \n",
        "print(\"Coefficients: \", model.coefficients)\n",
        "print(\"Intercept: \", model.intercept)"
      ],
      "metadata": {
        "colab": {
          "base_uri": "https://localhost:8080/"
        },
        "id": "NhpizGhY9GL4",
        "outputId": "f7681e17-4eb1-41d7-ae3f-665508851abc"
      },
      "execution_count": null,
      "outputs": [
        {
          "output_type": "stream",
          "name": "stdout",
          "text": [
            "Coefficients:  [0.24607406218597186,0.2505788175182226,0.25257503065720416,0.25074729464209694,-0.0013419270648663392,-1.4254431398720666e-06]\n",
            "Intercept:  0.19225685898229777\n"
          ]
        }
      ]
    },
    {
      "cell_type": "code",
      "source": [
        "print(model.summary)"
      ],
      "metadata": {
        "colab": {
          "base_uri": "https://localhost:8080/"
        },
        "id": "irHxVhD99GN6",
        "outputId": "8c3c8b35-bb5e-416e-97bf-0fdc47e10ab8"
      },
      "execution_count": null,
      "outputs": [
        {
          "output_type": "stream",
          "name": "stdout",
          "text": [
            "Coefficients:\n",
            "             Feature Estimate Std Error   T Value P Value\n",
            "         (Intercept)   0.1923    0.0033   57.9030  0.0000\n",
            "Independent Featu...   0.2461    0.0000 5659.7238  0.0000\n",
            "Independent Featu...   0.2506    0.0000 5738.7524  0.0000\n",
            "Independent Featu...   0.2526    0.0000 5783.4471  0.0000\n",
            "Independent Featu...   0.2507    0.0000 5760.6185  0.0000\n",
            "Independent Featu...  -0.0013    0.0001  -14.2602  0.0000\n",
            "Independent Featu...   0.0000    0.0000  -70.0365  0.0000\n",
            "\n",
            "(Dispersion parameter for gaussian family taken to be 20.2962)\n",
            "Null deviance: 233766566947205.0600 on 2890651 degrees of freedom\n",
            "   Residual deviance: 58669239.7991 on 2890651 degrees of freedom\n",
            "AIC: 16905475.6773\n"
          ]
        }
      ]
    },
    {
      "cell_type": "code",
      "source": [
        "from pyspark.ml.evaluation import RegressionEvaluator\n",
        "tdata = model.transform(test)\n",
        "tdata.show(3)\n",
        "\n",
        "rmse = RegressionEvaluator(labelCol=\"Weighted_Price\", predictionCol=\"prediction\", metricName=\"rmse\")\n",
        "rmse = rmse.evaluate(tdata)\n",
        "mae = RegressionEvaluator(labelCol=\"Weighted_Price\", predictionCol=\"prediction\", metricName=\"mae\")\n",
        "mae = mae.evaluate(tdata)\n",
        "r2 = RegressionEvaluator(labelCol=\"Weighted_Price\", predictionCol=\"prediction\", metricName=\"r2\")\n",
        "r2 = r2.evaluate(tdata)\n",
        "\n",
        "print(\"RMSE: \", rmse)\n",
        "print(\"MAE: \", mae)\n",
        "print(\"R-squared: \", r2)"
      ],
      "metadata": {
        "colab": {
          "base_uri": "https://localhost:8080/"
        },
        "id": "iXjHtZow9GQm",
        "outputId": "5ae61c49-5920-4a3f-acb7-0bf6a7e8ec55"
      },
      "execution_count": null,
      "outputs": [
        {
          "output_type": "stream",
          "name": "stdout",
          "text": [
            "+--------------------+--------------+------------------+\n",
            "|            features|Weighted_Price|        prediction|\n",
            "+--------------------+--------------+------------------+\n",
            "|[3.8,3.8,3.8,3.8,...|           3.8|3.9917988551834056|\n",
            "|[4.3,4.3,4.3,4.3,...|           4.3| 4.480736553719601|\n",
            "|[4.33,4.33,4.33,4...|          4.33| 4.517363744367934|\n",
            "+--------------------+--------------+------------------+\n",
            "only showing top 3 rows\n",
            "\n",
            "RMSE:  4.4807873583361095\n",
            "MAE:  1.692349427124173\n",
            "R-squared:  0.9999997526198995\n"
          ]
        }
      ]
    },
    {
      "cell_type": "markdown",
      "source": [
        "Compared to results generated by linear regression: (0.9999998056829986, 1.5614665206197333, 15.76613153552983)\n",
        "Conclusion: in RMSE the GLR is better than the LR"
      ],
      "metadata": {
        "id": "97mpIfYgImzS"
      }
    },
    {
      "cell_type": "code",
      "source": [
        "import matplotlib.pyplot as plt\n",
        "\n",
        "x_ax = range(0, tdata.count())\n",
        "y_pred=tdata.select(\"prediction\").collect()\n",
        "y_orig=tdata.select(\"Weighted_Price\").collect()\n",
        " \n",
        "plt.plot(x_ax, y_orig, label=\"original\")\n",
        "plt.plot(x_ax, y_pred, label=\"predicted\")\n",
        "plt.title(\"bitstampUSD\")\n",
        "plt.xlabel('X-axis')\n",
        "plt.ylabel('Y-axis')\n",
        "plt.legend(loc='best',fancybox=True, shadow=True)\n",
        "plt.grid(True)\n",
        "plt.show() "
      ],
      "metadata": {
        "colab": {
          "base_uri": "https://localhost:8080/",
          "height": 295
        },
        "id": "Wbv3DYOQ9GR0",
        "outputId": "faadaab3-83cb-4a1f-bc1a-08cd980fc0c8"
      },
      "execution_count": null,
      "outputs": [
        {
          "output_type": "display_data",
          "data": {
            "text/plain": [
              "<Figure size 432x288 with 1 Axes>"
            ],
            "image/png": "[encoded data removed]"
          },
          "metadata": {
            "needs_background": "light"
          }
        }
      ]
    },
    {
      "cell_type": "markdown",
      "source": [
        "Conclusion: GLR is better than LR. "
      ],
      "metadata": {
        "id": "tZKHjTUQPEEp"
      }
    }
  ],
  "metadata": {
    "application/vnd.databricks.v1+notebook": {
      "notebookName": "Tutorial 8-Linear Regression With Pyspark",
      "dashboards": [],
      "notebookMetadata": {
        "pythonIndentUnit": 2
      },
      "language": "python",
      "widgets": {},
      "notebookOrigID": 523045182520803
    },
    "colab": {
      "provenance": [],
      "include_colab_link": true
    },
    "language_info": {
      "name": "python"
    },
    "kernelspec": {
      "name": "python3",
      "display_name": "Python 3"
    },
    "gpuClass": "standard"
  },
  "nbformat": 4,
  "nbformat_minor": 0
}